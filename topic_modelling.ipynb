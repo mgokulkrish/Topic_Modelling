{
  "cells": [
    {
      "cell_type": "markdown",
      "metadata": {
        "id": "WixMOHtmiqVd"
      },
      "source": [
        "**Question 1 - Data Cleaning**\n",
        "\n",
        "This questions has two steps\n",
        "1. Data Extraction - Extracting text data from pdfs\n",
        "2. Data Preprocessing - Cleaning the text data received from the PDF"
      ]
    },
    {
      "cell_type": "code",
      "execution_count": null,
      "metadata": {
        "colab": {
          "base_uri": "https://localhost:8080/"
        },
        "id": "itFYTZ3B4ndW",
        "outputId": "e117f384-2485-416e-8077-ea8453dc8bc8"
      },
      "outputs": [
        {
          "name": "stdout",
          "output_type": "stream",
          "text": [
            "Collecting PyPDF2\n",
            "  Downloading pypdf2-3.0.1-py3-none-any.whl (232 kB)\n",
            "\u001b[2K     \u001b[90m━━━━━━━━━━━━━━━━━━━━━━━━━━━━━━━━━━━━━━━━\u001b[0m \u001b[32m232.6/232.6 kB\u001b[0m \u001b[31m3.9 MB/s\u001b[0m eta \u001b[36m0:00:00\u001b[0m\n",
            "\u001b[?25hInstalling collected packages: PyPDF2\n",
            "Successfully installed PyPDF2-3.0.1\n",
            "Collecting pdfminer.six\n",
            "  Downloading pdfminer.six-20221105-py3-none-any.whl (5.6 MB)\n",
            "\u001b[2K     \u001b[90m━━━━━━━━━━━━━━━━━━━━━━━━━━━━━━━━━━━━━━━━\u001b[0m \u001b[32m5.6/5.6 MB\u001b[0m \u001b[31m12.1 MB/s\u001b[0m eta \u001b[36m0:00:00\u001b[0m\n",
            "\u001b[?25hRequirement already satisfied: charset-normalizer>=2.0.0 in /usr/local/lib/python3.10/dist-packages (from pdfminer.six) (3.3.0)\n",
            "Requirement already satisfied: cryptography>=36.0.0 in /usr/local/lib/python3.10/dist-packages (from pdfminer.six) (41.0.4)\n",
            "Requirement already satisfied: cffi>=1.12 in /usr/local/lib/python3.10/dist-packages (from cryptography>=36.0.0->pdfminer.six) (1.16.0)\n",
            "Requirement already satisfied: pycparser in /usr/local/lib/python3.10/dist-packages (from cffi>=1.12->cryptography>=36.0.0->pdfminer.six) (2.21)\n",
            "Installing collected packages: pdfminer.six\n",
            "Successfully installed pdfminer.six-20221105\n",
            "Requirement already satisfied: nltk in /usr/local/lib/python3.10/dist-packages (3.8.1)\n",
            "Requirement already satisfied: click in /usr/local/lib/python3.10/dist-packages (from nltk) (8.1.7)\n",
            "Requirement already satisfied: joblib in /usr/local/lib/python3.10/dist-packages (from nltk) (1.3.2)\n",
            "Requirement already satisfied: regex>=2021.8.3 in /usr/local/lib/python3.10/dist-packages (from nltk) (2023.6.3)\n",
            "Requirement already satisfied: tqdm in /usr/local/lib/python3.10/dist-packages (from nltk) (4.66.1)\n",
            "Collecting openai\n",
            "  Downloading openai-0.28.1-py3-none-any.whl (76 kB)\n",
            "\u001b[2K     \u001b[90m━━━━━━━━━━━━━━━━━━━━━━━━━━━━━━━━━━━━━━━━\u001b[0m \u001b[32m77.0/77.0 kB\u001b[0m \u001b[31m1.2 MB/s\u001b[0m eta \u001b[36m0:00:00\u001b[0m\n",
            "\u001b[?25hRequirement already satisfied: requests>=2.20 in /usr/local/lib/python3.10/dist-packages (from openai) (2.31.0)\n",
            "Requirement already satisfied: tqdm in /usr/local/lib/python3.10/dist-packages (from openai) (4.66.1)\n",
            "Requirement already satisfied: aiohttp in /usr/local/lib/python3.10/dist-packages (from openai) (3.8.6)\n",
            "Requirement already satisfied: charset-normalizer<4,>=2 in /usr/local/lib/python3.10/dist-packages (from requests>=2.20->openai) (3.3.0)\n",
            "Requirement already satisfied: idna<4,>=2.5 in /usr/local/lib/python3.10/dist-packages (from requests>=2.20->openai) (3.4)\n",
            "Requirement already satisfied: urllib3<3,>=1.21.1 in /usr/local/lib/python3.10/dist-packages (from requests>=2.20->openai) (2.0.6)\n",
            "Requirement already satisfied: certifi>=2017.4.17 in /usr/local/lib/python3.10/dist-packages (from requests>=2.20->openai) (2023.7.22)\n",
            "Requirement already satisfied: attrs>=17.3.0 in /usr/local/lib/python3.10/dist-packages (from aiohttp->openai) (23.1.0)\n",
            "Requirement already satisfied: multidict<7.0,>=4.5 in /usr/local/lib/python3.10/dist-packages (from aiohttp->openai) (6.0.4)\n",
            "Requirement already satisfied: async-timeout<5.0,>=4.0.0a3 in /usr/local/lib/python3.10/dist-packages (from aiohttp->openai) (4.0.3)\n",
            "Requirement already satisfied: yarl<2.0,>=1.0 in /usr/local/lib/python3.10/dist-packages (from aiohttp->openai) (1.9.2)\n",
            "Requirement already satisfied: frozenlist>=1.1.1 in /usr/local/lib/python3.10/dist-packages (from aiohttp->openai) (1.4.0)\n",
            "Requirement already satisfied: aiosignal>=1.1.2 in /usr/local/lib/python3.10/dist-packages (from aiohttp->openai) (1.3.1)\n",
            "Installing collected packages: openai\n",
            "Successfully installed openai-0.28.1\n"
          ]
        }
      ],
      "source": [
        "!pip install PyPDF2\n",
        "!pip install pdfminer.six\n",
        "!pip install nltk\n",
        "\n",
        "!pip install openai"
      ]
    },
    {
      "cell_type": "code",
      "execution_count": null,
      "metadata": {
        "id": "0vgzGlIb4puK"
      },
      "outputs": [],
      "source": [
        "import PyPDF2\n",
        "from pdfminer.high_level import extract_pages, extract_text\n",
        "from pdfminer.layout import LTTextContainer, LTChar, LTRect, LTFigure\n",
        "\n",
        "import os"
      ]
    },
    {
      "cell_type": "code",
      "execution_count": null,
      "metadata": {
        "id": "2iLlN8vu_IMY"
      },
      "outputs": [],
      "source": []
    },
    {
      "cell_type": "markdown",
      "metadata": {
        "id": "NZpecJsIHoSV"
      },
      "source": [
        "**Title Extraction**\n",
        "\n",
        "The following code is used to extract the title of research papers in PDF format.\n",
        "\n",
        "The Logic followed in Text Extraction and Get Title:\n",
        "- The title has the largest font size in the first page\n",
        "- Usually they are Bold if there is usage of bolds, so we add bonus point to score if it is bold.\n",
        "- The titles dont have italicized words, i.e they are upright usually\n",
        "\n",
        "\n",
        "Using this property we extract title from the pdf through pdfminer and pdf plumber, by forming a score."
      ]
    },
    {
      "cell_type": "code",
      "execution_count": null,
      "metadata": {
        "id": "Qkzfy96V4vDk"
      },
      "outputs": [],
      "source": [
        "def text_extraction(element):\n",
        "    line_text = element.get_text()\n",
        "\n",
        "    line_formats = []\n",
        "    font_size = []\n",
        "    upright = True;\n",
        "    fontname = \"empty\"\n",
        "\n",
        "    for text_line in element:\n",
        "        if isinstance(text_line, LTTextContainer):\n",
        "            for character in text_line:\n",
        "                if isinstance(character, LTChar):\n",
        "                    line_formats.append(character.size)\n",
        "                    font_size.append(character.size);\n",
        "                    upright = upright and character.upright\n",
        "                    fontname = character.fontname\n",
        "\n",
        "    format_per_line = sorted(line_formats, key=float, reverse=True)\n",
        "    return (line_text, format_per_line, font_size, upright, fontname)"
      ]
    },
    {
      "cell_type": "code",
      "execution_count": null,
      "metadata": {
        "id": "aqUgYl7jDb6h"
      },
      "outputs": [],
      "source": [
        "def get_titles(start_doc, end_doc):\n",
        "  titles = []\n",
        "  for i in range(start_doc, end_doc + 1):\n",
        "    max_score = -1\n",
        "    pages = list(enumerate(extract_pages(\"./doc\" + str(i) + \".pdf\")))\n",
        "    front_page = pages[0][1]\n",
        "    for element in front_page:\n",
        "      if isinstance(element, LTTextContainer):\n",
        "        (text, format, font_size, upright, fn) = text_extraction(element)\n",
        "\n",
        "        # calculating score using average fontsize + is_bold(10pts)\n",
        "        fact = 0\n",
        "        if \"Bold\" in fn:\n",
        "          fact = 10\n",
        "        if len(font_size) > 0:\n",
        "          score = sum(font_size)/len(font_size) + fact\n",
        "\n",
        "        # calculating max, and storing title\n",
        "        if upright == True and len(font_size) > 0 and max_score < score and len(text) > 25:\n",
        "          title = text\n",
        "          max_score = score\n",
        "        elif upright == True and len(font_size) > 0 and max_score == score and len(text) > 25:\n",
        "          title = title + text\n",
        "    titles.append(title)\n",
        "\n",
        "  return titles"
      ]
    },
    {
      "cell_type": "code",
      "execution_count": null,
      "metadata": {
        "id": "9TlPbZ-OgydW"
      },
      "outputs": [],
      "source": [
        "titles = get_titles(1, 32)"
      ]
    },
    {
      "cell_type": "markdown",
      "metadata": {
        "id": "hNd9p0ya_ob4"
      },
      "source": [
        "### Doing Manual Pre-processing.\n",
        "\n",
        "The documents 15 and 16 has, author names in the the titles, which came along side while reading pdf, so we are manually removing these text."
      ]
    },
    {
      "cell_type": "code",
      "execution_count": null,
      "metadata": {
        "colab": {
          "base_uri": "https://localhost:8080/"
        },
        "id": "ETtKHqGyhLDR",
        "outputId": "ee3ec970-e1ce-4f24-e970-e66de142b964"
      },
      "outputs": [
        {
          "name": "stdout",
          "output_type": "stream",
          "text": [
            "32\n"
          ]
        }
      ],
      "source": [
        "# Manual pre-processing\n",
        "# removing the location, prof name from document 14 and 15\n",
        "titles[14] = titles[14][:105]\n",
        "titles[15] = titles[15][:119]\n",
        "\n",
        "print(len(titles))"
      ]
    },
    {
      "cell_type": "markdown",
      "metadata": {
        "id": "2rxHcrxY3UEf"
      },
      "source": [
        "## Abstract Extraction\n",
        "\n",
        "The following code is for abstract extraction. Most of the details have been successfully extracted.\n"
      ]
    },
    {
      "cell_type": "code",
      "execution_count": null,
      "metadata": {
        "id": "j-D8NolWkqM-"
      },
      "outputs": [],
      "source": [
        "# Find the start element from where the Abstract starts\n",
        "def get_abstract_start_element(pageElements, start_detectors):\n",
        "\n",
        "  for elementId, element in pageElements:\n",
        "    if isinstance(element, LTTextContainer):\n",
        "      line_text = element.get_text()\n",
        "      if any(substring in line_text for substring in start_detectors):\n",
        "        # If 'Abstract' heading is a separate element, ignore it\n",
        "        # Else, include it in the abstract text\n",
        "        residue = line_text\n",
        "        for detector in start_detectors:\n",
        "          residue = residue.replace(detector, '')\n",
        "        return elementId + 1 if len(residue) < 5 else elementId\n",
        "\n",
        "  return -1\n"
      ]
    },
    {
      "cell_type": "code",
      "execution_count": null,
      "metadata": {
        "id": "tq1G63RQlRuI"
      },
      "outputs": [],
      "source": [
        "def get_abstract_end_element(pageElements, start, end_detectors):\n",
        "  has_content = False\n",
        "\n",
        "  for elementId, element in pageElements[start:]:\n",
        "    if isinstance(element, LTTextContainer):\n",
        "      line_text = element.get_text().lower()\n",
        "      if has_content and any(substring in line_text for substring in end_detectors):\n",
        "        return elementId\n",
        "      if len(line_text) > 10:\n",
        "        has_content = True\n",
        "\n",
        "  return -1"
      ]
    },
    {
      "cell_type": "code",
      "execution_count": null,
      "metadata": {
        "id": "68rOCrmybLB7"
      },
      "outputs": [],
      "source": [
        "def get_abstract_elements_range(pageElements):\n",
        "  start = -1\n",
        "  end = -1\n",
        "  start_detectors = ('Abstract', 'ABSTRACT')\n",
        "  end_detectors = ('introduction', '_lntrnd_uctio_n', 'All rights reserved.')\n",
        "\n",
        "  start = get_abstract_start_element(pageElements, start_detectors)\n",
        "\n",
        "  if start == -1:\n",
        "    return (start, end)\n",
        "\n",
        "  end = get_abstract_end_element(pageElements, start, end_detectors)\n",
        "\n",
        "  # check for end element\n",
        "  if end == -1:\n",
        "    end = get_abstract_end_element(pageElements, start, ('keywords:', 'key words:'))\n",
        "\n",
        "  # last text element is end\n",
        "  if end == -1:\n",
        "    for elementId, element in pageElements[start:]:\n",
        "      if isinstance(element, LTTextContainer):\n",
        "        line_text = element.get_text()\n",
        "        end = elementId\n",
        "\n",
        "  return (start, end)"
      ]
    },
    {
      "cell_type": "code",
      "execution_count": null,
      "metadata": {
        "id": "zjN2JPupvEch"
      },
      "outputs": [],
      "source": [
        "def get_abstracts(start_doc, end_doc):\n",
        "  abstracts = []\n",
        "  for i in range(start_doc, end_doc + 1):\n",
        "    pages = list(enumerate(extract_pages('./doc' + str(i) + '.pdf')))\n",
        "    frontPage = pages[0][1]\n",
        "    elements = list(enumerate(frontPage))\n",
        "    abstractRange = get_abstract_elements_range(elements)\n",
        "    abstract = \"\"\n",
        "    for j in range(abstractRange[0], abstractRange[1]):\n",
        "      if isinstance(elements[j][1], LTTextContainer) and len(elements[j][1].get_text()) > 10:\n",
        "        abstract += elements[j][1].get_text()\n",
        "\n",
        "    abstracts.append(abstract)\n",
        "\n",
        "  return abstracts"
      ]
    },
    {
      "cell_type": "code",
      "execution_count": null,
      "metadata": {
        "id": "thrRe15onSZC"
      },
      "outputs": [],
      "source": [
        "# Printing abstracts\n",
        "abstracts = get_abstracts(1,32)\n",
        "\n",
        "# for document_id, abstract in enumerate(abstracts):\n",
        "#   print(\"\\n\\n\\n\\n\\n---------------------------------\")\n",
        "#   print(\"Document - \" + str(document_id) + \"\\n\")\n",
        "#   print(abstract)\n",
        "#   print(\"---------------------------------\")\n"
      ]
    },
    {
      "cell_type": "code",
      "execution_count": null,
      "metadata": {
        "colab": {
          "base_uri": "https://localhost:8080/"
        },
        "id": "SB2nD7rLpwrF",
        "outputId": "e74cc0a3-6b3c-44dd-86b0-1b848671b0d9"
      },
      "outputs": [
        {
          "name": "stdout",
          "output_type": "stream",
          "text": [
            "32\n"
          ]
        }
      ],
      "source": [
        "# Printing abstracts\n",
        "print(len(abstracts))"
      ]
    },
    {
      "cell_type": "code",
      "execution_count": null,
      "metadata": {
        "id": "q6nHJj30PiB7"
      },
      "outputs": [],
      "source": [
        "# combining title and body into one string.\n",
        "def get_docs(titles, abstracts):\n",
        "  docs = []\n",
        "  for i in range(0, len(titles)):\n",
        "    docs.append(titles[i] + abstracts[i])\n",
        "  return docs"
      ]
    },
    {
      "cell_type": "code",
      "execution_count": null,
      "metadata": {
        "colab": {
          "base_uri": "https://localhost:8080/"
        },
        "id": "kWILK-OMfLIh",
        "outputId": "25012cb2-2973-491f-cd52-9d05e23ecd5a"
      },
      "outputs": [
        {
          "name": "stdout",
          "output_type": "stream",
          "text": [
            "32\n"
          ]
        }
      ],
      "source": [
        "docs = get_docs(titles, abstracts)\n",
        "\n",
        "print(len(docs))"
      ]
    },
    {
      "cell_type": "markdown",
      "metadata": {
        "id": "ZMRqHQQwsGZE"
      },
      "source": [
        "**Question 1.2 - Data Preprocessing**\n",
        "\n",
        "A few steps we use to clean our data:\n",
        "1. Remove stop words.\n",
        "2. Remove escape characters.\n",
        "3. Tokenization.\n",
        "4. Lemmatization.\n",
        "5. Removing emails.\n",
        "6. Remove Copyrights info.\n",
        "7. Remove Special Characters."
      ]
    },
    {
      "cell_type": "code",
      "execution_count": null,
      "metadata": {
        "colab": {
          "base_uri": "https://localhost:8080/"
        },
        "id": "ePEP2lo_uWJO",
        "outputId": "6c77f4e9-e06c-49b8-a983-1682f98d8161"
      },
      "outputs": [
        {
          "name": "stderr",
          "output_type": "stream",
          "text": [
            "[nltk_data] Downloading package stopwords to /root/nltk_data...\n",
            "[nltk_data]   Unzipping corpora/stopwords.zip.\n",
            "[nltk_data] Downloading package punkt to /root/nltk_data...\n",
            "[nltk_data]   Unzipping tokenizers/punkt.zip.\n",
            "[nltk_data] Downloading package wordnet to /root/nltk_data...\n"
          ]
        }
      ],
      "source": [
        "import nltk\n",
        "import string\n",
        "import re\n",
        "nltk.download('stopwords')\n",
        "nltk.download('punkt')\n",
        "nltk.download('wordnet')\n",
        "\n",
        "from nltk.corpus import stopwords\n",
        "from nltk.tokenize import word_tokenize\n",
        "from nltk.stem.wordnet import WordNetLemmatizer"
      ]
    },
    {
      "cell_type": "code",
      "execution_count": null,
      "metadata": {
        "id": "4JN2dZ04FYA5"
      },
      "outputs": [],
      "source": [
        "def merge_split_words(tokenized_data):\n",
        "  # Example: 'thermody-', 'namically' => 'thermodynamically'\n",
        "  new_tokens = tokenized_data\n",
        "  for i in range(0, len(new_tokens) - 1):\n",
        "    if new_tokens[i].endswith('-'):\n",
        "      new_tokens[i] = new_tokens[i][:-1] + new_tokens[i + 1]\n",
        "      new_tokens[i+1] = ''\n",
        "\n",
        "  return [token for token in new_tokens if token != '']"
      ]
    },
    {
      "cell_type": "code",
      "execution_count": null,
      "metadata": {
        "id": "0knCNJvBvIy7"
      },
      "outputs": [],
      "source": [
        "def remove_copyright_info(tokenized_data):\n",
        "  # Removing 'copyright <year> ISCMNS All Rights Reserved. ISSN <number>'\n",
        "  # Use it after removing stop words and removing special characters\n",
        "\n",
        "  rights_index = -1\n",
        "  for i in range(0, len(tokenized_data) - 1):\n",
        "    if tokenized_data[i] == 'rights' and (tokenized_data[i+1] == 'reserved'):\n",
        "      rights_index = i\n",
        "      break\n",
        "\n",
        "  if rights_index != -1:\n",
        "    new_tokens = tokenized_data\n",
        "    del new_tokens[rights_index - 2 : rights_index + 4]\n",
        "    return new_tokens\n",
        "\n",
        "  return tokenized_data"
      ]
    },
    {
      "cell_type": "code",
      "execution_count": null,
      "metadata": {
        "id": "uH4Emv87jKcb"
      },
      "outputs": [],
      "source": [
        "def remove_stop_words(tokenized_data, language=\"english\"):\n",
        "  language_stopwords = stopwords.words(language)\n",
        "  language_stopwords.extend(['i.e.', 'i.e'])\n",
        "  return [t for t in tokenized_data if t not in language_stopwords]"
      ]
    },
    {
      "cell_type": "code",
      "execution_count": null,
      "metadata": {
        "id": "T-w65bHa6hpt"
      },
      "outputs": [],
      "source": [
        "def remove_email_tokens(tokenized_data):\n",
        "  pattern = r'\\S+@\\S+'\n",
        "  new_tokens = [re.sub(pattern, '', token) for token in tokenized_data]\n",
        "  return [token for token in new_tokens if token != '']"
      ]
    },
    {
      "cell_type": "code",
      "execution_count": null,
      "metadata": {
        "id": "-bfry0Wf_cFd"
      },
      "outputs": [],
      "source": [
        "def remove_website_links(tokenized_data):\n",
        "  pattern = r'https?:\\/\\/\\S+'\n",
        "  new_tokens = [re.sub(pattern, '', token) for token in tokenized_data]\n",
        "  return [token for token in new_tokens if token != '']"
      ]
    },
    {
      "cell_type": "code",
      "execution_count": null,
      "metadata": {
        "id": "3hztpTWKsCe4"
      },
      "outputs": [],
      "source": [
        "def remove_special_chars(tokenized_data):\n",
        "  new_tokens = [''.join(filter(str.isalnum, token)) for token in tokenized_data]\n",
        "  return [token for token in new_tokens if token != '']"
      ]
    },
    {
      "cell_type": "code",
      "execution_count": null,
      "metadata": {
        "id": "IJ9Aw-84Dl-Y"
      },
      "outputs": [],
      "source": [
        "def lemmatize_tokens(tokenized_data):\n",
        "  lemmatizer = WordNetLemmatizer()\n",
        "  return [lemmatizer.lemmatize(token) for token in tokenized_data]"
      ]
    },
    {
      "cell_type": "code",
      "execution_count": null,
      "metadata": {
        "id": "BG0jI7A8iKJ0"
      },
      "outputs": [],
      "source": [
        "def preprocess(data):\n",
        "  processed_data = data\n",
        "\n",
        "  # lowercase\n",
        "  processed_data = data.lower()\n",
        "\n",
        "  # tokenize\n",
        "  processed_data = word_tokenize(processed_data, language=\"english\")\n",
        "\n",
        "  # merge split words\n",
        "  processed_data = merge_split_words(processed_data)\n",
        "\n",
        "  # remove stop words\n",
        "  processed_data = remove_stop_words(processed_data, language=\"english\")\n",
        "\n",
        "  # remove emails\n",
        "  processed_data = remove_email_tokens(processed_data)\n",
        "\n",
        "  # remove website links\n",
        "  processed_data = remove_website_links(processed_data)\n",
        "\n",
        "  # remove special characters\n",
        "  processed_data = remove_special_chars(processed_data)\n",
        "\n",
        "  # remove copyright info\n",
        "  processed_data = remove_copyright_info(processed_data)\n",
        "\n",
        "  # lemmatize (find root words)\n",
        "  processed_data = lemmatize_tokens(processed_data)\n",
        "\n",
        "  return processed_data\n"
      ]
    },
    {
      "cell_type": "code",
      "execution_count": null,
      "metadata": {
        "id": "MgQACQ9qj8W2"
      },
      "outputs": [],
      "source": [
        "def preprocess_docs(docs):\n",
        "  return [preprocess(doc) for doc in docs]\n"
      ]
    },
    {
      "cell_type": "code",
      "execution_count": null,
      "metadata": {
        "colab": {
          "base_uri": "https://localhost:8080/"
        },
        "id": "_XIsCtr2hfdN",
        "outputId": "4ccf23fe-2463-4ade-8e3a-adb399ee9ac4"
      },
      "outputs": [
        {
          "name": "stdout",
          "output_type": "stream",
          "text": [
            "32\n"
          ]
        }
      ],
      "source": [
        "clean_docs = preprocess_docs(docs)\n",
        "\n",
        "print(len(clean_docs))"
      ]
    },
    {
      "cell_type": "code",
      "execution_count": null,
      "metadata": {
        "colab": {
          "base_uri": "https://localhost:8080/"
        },
        "id": "VrZIPSbIbDV7",
        "outputId": "0aad15af-7fc8-4043-d226-6018bd44d046"
      },
      "outputs": [
        {
          "name": "stdout",
          "output_type": "stream",
          "text": [
            "!\"#$%&'()*+,-./:;<=>?@[\\]^_`{|}~\n"
          ]
        }
      ],
      "source": [
        "## dont know what to do about puncutation/special characters inside the words.\n",
        "## removed it, but loss of information from this step, does it matter ?\n",
        "print(string.punctuation)"
      ]
    },
    {
      "cell_type": "markdown",
      "metadata": {
        "id": "nFqlHjQQii0l"
      },
      "source": [
        "________________________________________________________________________"
      ]
    },
    {
      "cell_type": "markdown",
      "metadata": {
        "id": "5Ky2HNTsiNuh"
      },
      "source": [
        "### Question 2 - Embeddings\n",
        "\n",
        "We will start with Word2Vec to convert our list of words into numerical vectors"
      ]
    },
    {
      "cell_type": "code",
      "execution_count": null,
      "metadata": {
        "id": "GU6JpvBWkJj9"
      },
      "outputs": [],
      "source": [
        "from sklearn.manifold import TSNE\n",
        "import matplotlib.pyplot as plt\n",
        "%matplotlib inline\n",
        "import numpy as np\n",
        "from time import time  # To time our operations\n",
        "\n",
        "from nltk.tokenize import sent_tokenize, word_tokenize\n",
        "import warnings\n",
        "import gensim\n",
        "from gensim.models import Word2Vec"
      ]
    },
    {
      "cell_type": "markdown",
      "metadata": {
        "id": "4Rq73vD9UIdA"
      },
      "source": [
        "## Optional Step\n",
        "\n",
        "Plot the vectors in 2D using TSNE Dimensionality Reduction"
      ]
    },
    {
      "cell_type": "code",
      "execution_count": null,
      "metadata": {
        "id": "gDh4mVYUkqhj"
      },
      "outputs": [],
      "source": [
        "# function to plot word vectors with t-SNE\n",
        "def tsne_plot(model, document_vectors, caption):\n",
        "    \"Creates and TSNE model and plots it\"\n",
        "    labels = []\n",
        "    tokens = document_vectors\n",
        "\n",
        "    for i,vec in enumerate(document_vectors):\n",
        "        labels.append(f\"Document {i}\")\n",
        "\n",
        "    tsne_model = TSNE(perplexity=20, n_components=2, init='pca', n_iter=2500, random_state=23)\n",
        "\n",
        "    tokens = [t.squeeze() for t in tokens]\n",
        "\n",
        "    tokens = np.array(tokens)\n",
        "    new_values = tsne_model.fit_transform(tokens)\n",
        "\n",
        "\n",
        "\n",
        "    x = []\n",
        "    y = []\n",
        "    for value in new_values:\n",
        "        x.append(value[0])\n",
        "        y.append(value[1])\n",
        "\n",
        "    plt.figure(figsize=(12, 12))\n",
        "    plt.title(caption)\n",
        "    for i in range(len(x)):\n",
        "        plt.scatter(x[i],y[i])\n",
        "        plt.annotate(labels[i],\n",
        "                     xy=(x[i], y[i]),\n",
        "                     xytext=(5, 2),\n",
        "                     textcoords='offset points',\n",
        "                     ha='right',\n",
        "                     va='bottom')\n",
        "    plt.show()"
      ]
    },
    {
      "cell_type": "markdown",
      "metadata": {
        "id": "D4EoS9ggUZvk"
      },
      "source": [
        "**Question 2.1.1 - Embeddings using Word2Vec**\n",
        "\n",
        "In this step we convert the documents to vectors using the Word2Vec model"
      ]
    },
    {
      "cell_type": "code",
      "execution_count": null,
      "metadata": {
        "id": "9jjyk6ZVSEL2"
      },
      "outputs": [],
      "source": [
        "def get_w2v_model(document_vectors):\n",
        "  word_2_vec_model = Word2Vec(sentences=document_vectors, min_count=6, vector_size=100, epochs=50)\n",
        "  return word_2_vec_model"
      ]
    },
    {
      "cell_type": "code",
      "execution_count": null,
      "metadata": {
        "id": "m5QbZyD0LuIg"
      },
      "outputs": [],
      "source": [
        "def get_w2v_doc_vectors(model, sentences):\n",
        "  wv = model.wv\n",
        "  document_vectors = []\n",
        "\n",
        "  for index, doc in enumerate(clean_docs):\n",
        "    vec = sum([wv[word] for word in doc if word in wv])\n",
        "    document_vectors.append(vec)\n",
        "\n",
        "  return document_vectors"
      ]
    },
    {
      "cell_type": "code",
      "execution_count": null,
      "metadata": {
        "id": "3xSOJNcdSbKa"
      },
      "outputs": [],
      "source": [
        "w2v_model = get_w2v_model(clean_docs)"
      ]
    },
    {
      "cell_type": "code",
      "execution_count": null,
      "metadata": {
        "id": "pueP1ht7R60q"
      },
      "outputs": [],
      "source": [
        "w2v_document_vectors = get_w2v_doc_vectors(w2v_model, clean_docs)"
      ]
    },
    {
      "cell_type": "code",
      "execution_count": null,
      "metadata": {
        "colab": {
          "base_uri": "https://localhost:8080/",
          "height": 1000
        },
        "id": "-ca9m3n6TxH4",
        "outputId": "ecfd9fe8-b476-4c51-d735-efcead6686b6"
      },
      "outputs": [
        {
          "data": {
            "image/png": "[encoded data removed]",
            "text/plain": [
              "<Figure size 1200x1200 with 1 Axes>"
            ]
          },
          "metadata": {},
          "output_type": "display_data"
        }
      ],
      "source": [
        "tsne_plot(w2v_model, w2v_document_vectors, caption=\"Plot visualization of Word2Vec\")"
      ]
    },
    {
      "cell_type": "markdown",
      "metadata": {
        "id": "uab9GrsWWaC2"
      },
      "source": [
        "**Question 2.2.1 - Similarity in Word2Vec**\n",
        "\n",
        "Calculate the 3 most similar papers (using cosine similarity) using the embedding for 5 random documents"
      ]
    },
    {
      "cell_type": "code",
      "execution_count": null,
      "metadata": {
        "id": "nvRxSzv9XD3h"
      },
      "outputs": [],
      "source": [
        "def get_similar_docs(doc_ids, doc_vectors):\n",
        "  similar_docs = []\n",
        "  for i in doc_ids:\n",
        "    cosine_score = []\n",
        "    for j in range(0,32):\n",
        "      if j != i:\n",
        "        score = np.dot(doc_vectors[i].squeeze(), doc_vectors[j].squeeze()) / (np.linalg.norm(doc_vectors[i].squeeze()) * np.linalg.norm(doc_vectors[j].squeeze()))\n",
        "        cosine_score.append((score, j))\n",
        "\n",
        "    cosine_score.sort(reverse=True)\n",
        "    similar_docs.append(cosine_score[:3])\n",
        "\n",
        "  return similar_docs"
      ]
    },
    {
      "cell_type": "code",
      "execution_count": null,
      "metadata": {
        "colab": {
          "base_uri": "https://localhost:8080/"
        },
        "id": "b8BTCfFAvEfp",
        "outputId": "5813081e-5bd8-4962-d9fa-f3234f59de9b"
      },
      "outputs": [
        {
          "name": "stdout",
          "output_type": "stream",
          "text": [
            "\n",
            "Research Article\n",
            "Heat Production and RF Detection during Cathodic Polarization of\n",
            "Palladium in 0.1 M LiOD\n",
            "The study of the Fleischmann–Pons Effect (FPE), i.e. the production of excess power production during electrochemical loading\n",
            "of deuterium in palladium (in the past labeled cold fusion) has had a notably multidisciplinary character, involving solid state and\n",
            "nuclear physics, material science, electrochemistry and other ﬁelds. Correlations between the material status and the occurrence of\n",
            "the effect as well as some changes in the electrochemical interface status have been observed. Although during the last two decades,\n",
            "in several calorimetric experiments the effect was observed to be well above the measurement uncertainty, the mechanism producing\n",
            "the excess power is not completely understood. So far, the lack of reproducibility has been responsible for the absence of a clear\n",
            "explanation of the phenomenon based on experimental apparatus designed to enhance the spectrum of information required to\n",
            "deﬁne the effect. Recently, In order to improve this aspect of this research, speciﬁc work has been carried out to investigate whether\n",
            "the excess power was produced concurrently with the emission of Radio Frequency from the active cathode. Suitable probes\n",
            "and triggering included in the RF experimental system revealed RF signal emission during electrochemical loading of palladium\n",
            "samples, and a correlation between the heat production, in active samples, and RF signal emission was found. The preliminary\n",
            "results highlight the importance of performing studies on the electrodynamic effects that may be involved in the phenomenon, and\n",
            "the importance of the design of appropriate instruments designed to investigate unexplored regions of metal hydrogen systems.\n",
            "c\n",
            "\"\n",
            "2016 ISCMNS. All rights reserved. ISSN 2227-3123\n",
            "Keywords: Anomalous heat effect in metal hydride, Electrochemistry, Electromagnetic stimulation, Fleischmann and Pons effect,\n",
            "Metal hydrides and deuterides, Palladium, Palladium alloys, Radiofrequency\n",
            " \n",
            "\n",
            "Most similar documents: [(0.99984914, 1), (0.9998327, 6), (0.99980533, 26)]\n",
            "\n",
            "\n",
            "\n",
            "\n",
            "Research Article\n",
            "Electromagnetic Emission in the kHz to GHz Range Associated with\n",
            "Heat Production During Electrochemical Loading of Deuterium into\n",
            "Palladium: A Summary and Analysis of Results Obtained by\n",
            "Different Research Groups\n",
            "There is a small literature on the combination of low energy nuclear reactions (LENR) experiments and radiofrequencies (RF).\n",
            "The papers are worth attention in case they can teach anything about the mechanisms behind LENR. Application of RF to LENR\n",
            "electrochemical cells in the mid-1990s clearly showed increases in the production of excess power. More recently, RF have been\n",
            "measured in LENR cells. However, it is still possible that those data are artifacts of the operation of the system, and not indicative of\n",
            "LENR. It has been suggested that the appearance of RF in LENR experiments is the cause of LENR, and not merely a manifestation\n",
            "of such reactions. That possibility has signiﬁcant implications. In the present paper, we summarize and analyze the results obtained\n",
            "by different research groups concerning the application and emission of RF in the kHz to GHz range associated with heat production\n",
            "during electrochemical loading of deuterium into palladium.\n",
            "c\n",
            "2016 ISCMNS. All rights reserved. ISSN 2227-3123\n",
            "\"\n",
            "Keywords: Electromagnetic emissions, Electromagnetic radiation, Excess power, LENR, Heat production\n",
            " \n",
            "\n",
            "Most similar documents: [(0.9998421, 13), (0.99980986, 27), (0.99973106, 2)]\n",
            "\n",
            "\n",
            "\n",
            "\n",
            "EXCESS HEAT PRODUCTION IN Pd/D DURING PERIODIC\n",
            "PULSE DISCHARGE CURRENT IN VARIOUS\n",
            "CONDITIONS\n",
            "Experimental data from low energy nuclear reactions (LERN) in condensed media are presented. The\n",
            "nuclear reactions products were found in solid cathode media used in glow discharge. Apparently, the nuclear\n",
            "reactions were initiated when bombarding the cathode surface by plasma ions with the energy of 1.0-2.0 keV.\n",
            "Excess heat from a high current glow discharge reaction in D2, Xe and Kr using cathodes already charged\n",
            "with preliminary deuterium-charged Pd and Ti cathode samples are given. Excess heat up to 10 - 15 W and\n",
            "efficiency up to 130% was recorded under the experiments for Pd cathode samples in D2 discharge. Excess\n",
            "heat up to 5 W and efficiency up to 150% was recorded for Pd cathodes that were charged with deuterium\n",
            "before the run, in Xe and Kr discharges. At the same time excess heat was not observed for pure Pd cathode\n",
            "samples in Xe and Kr discharges. The formation of impurity nuclides (7Li, 13C, 15N, 20Ne, 29Si, 44Ca, 48Ca,\n",
            "56Fe, 57Fe, 59Co, 64Zn, 66Zn, 75As, 107Ag, 109Ag, 110Cg, 111Cg, 112Cg, 114Cg, 115In) with the efficiency up to 1013\n",
            "atoms/s was recorded. The isotopic ratios of these new nuclides was quite different from the natural ratios.\n",
            "Soft X-ray radiation from the solid-state cathode with the intensity up to 0.01Gy/s was recorded in\n",
            "experiments with discharges in H2, D2, Ar, Xe and Kr. The X-ray radiation was observed in bursts of up to\n",
            "106 photons, with up to 105 bursts per second while the discharge was formed and within 100 ms after turning\n",
            "off the discharge current. The results of the X-ray radiation registration showed that the exited energy levels\n",
            "have a lifetime up to 100 ms or more, and the energy of 1.2 - 2.5 keV. A possible mechanism for producing\n",
            "excess heat and nuclear transmutation reactions in the solid medium with the exited energy levels is\n",
            "considered.\n",
            " \n",
            "\n",
            "Most similar documents: [(0.9998444, 13), (0.99983484, 8), (0.9997717, 11)]\n",
            "\n",
            "\n",
            "\n",
            "\n",
            "MATERIALS ISSUES OF LOADING DEUTERIUM INTO PALLADIUM AND \n",
            "THE ASSOCIATION WITH EXCESS HEAT PRODUCTION \n",
            "The ability of palladium cathodes to attain and maintain high loading levels, at high \n",
            "current density and for long times, is controlled by two factors: the condition of the \n",
            "electrochemical interface which allows the attainment of high deuterium activity; the defect \n",
            "density and mechanical condition of the bulk material which permits the Pd lattice to withstand \n",
            "and contain high bulk deuterium activities when these equilibrate to produce extreme pressures of \n",
            "deuterium gas inside closed incipient voids within the metal. \n",
            "Examples are given from a set of 26 intentionally similar current ramps which show \n",
            "three distinct Modes of loading performance: Mode A - a linear decrease of Pd resistance, \n",
            "beyond the resistance maximum, with logarithmic increase in electrochemical current; Mode B -an \n",
            "initial log-linear decrease on the Mode A trajectory, followed by a rapid increase in resistance \n",
            "when the resistance falls below a critical value; Mode C -  a shallow decrease in resistance with \n",
            "approximately symmetric increase as the [log] current density is increased beyond a threshold \n",
            "value similar to that for Mode B. Mode A is most frequently associated with the appearance of \n",
            "calorimetrically determined excess heat. \n",
            " \n",
            "\n",
            "Most similar documents: [(0.9998166, 6), (0.99980927, 4), (0.99977946, 0)]\n",
            "\n",
            "\n",
            "\n",
            "\n",
            "Excess Heat Production and Nuclear Ash in PdO/Pd/PdO Heterostructure \n",
            "after Electrochemical Saturation with Deuterium \n",
            "Heat production nuclear ash and electrophysical processes in PdO/Pd/PdO (Au/Pd/PdO) \n",
            "heterostructures electrochemically saturated with deuterium (hydrogen) have been \n",
            "investigated. It was shown in after electrolysis period a strong heat flash with duration of 2-7 \n",
            "s and energy density of 60-100 J/cm2 was observed for Pd/PdO:D(H) sample placed in air \n",
            "atmosphere. The thermal energy of each flash was approximately 2-5 times higher than the \n",
            "energy supplied to the sample during electrolysis. Neutron- and γ-emissions accompanying \n",
            "the heat production have been investigated. \n",
            " \n",
            "\n",
            "Most similar documents: [(0.9997995, 28), (0.9997931, 30), (0.9995673, 1)]\n",
            "\n",
            "\n",
            "\n"
          ]
        }
      ],
      "source": [
        "doc_ids = [0, 17, 10, 7, 29]\n",
        "similar_docs = get_similar_docs(doc_ids, w2v_document_vectors)\n",
        "\n",
        "for i, score in enumerate(similar_docs):\n",
        "  print(f\"\\n{docs[i]} \\n\")\n",
        "  print(f\"Most similar documents: {score}\")\n",
        "  print(\"\\n\\n\")\n"
      ]
    },
    {
      "cell_type": "markdown",
      "metadata": {
        "id": "0b7BjQrEXh00"
      },
      "source": [
        "**Question 2.1.2 - Embeddings using Doc2Vec**\n",
        "\n",
        "In this step we convert the documents to vectors using the Doc2Vec model"
      ]
    },
    {
      "cell_type": "code",
      "execution_count": null,
      "metadata": {
        "id": "0aF5-NrEYJrl"
      },
      "outputs": [],
      "source": [
        "from gensim.models.doc2vec import Doc2Vec, TaggedDocument"
      ]
    },
    {
      "cell_type": "code",
      "execution_count": null,
      "metadata": {
        "id": "gIUTLouuX-j2"
      },
      "outputs": [],
      "source": [
        "def get_d2v_model(document_vectors):\n",
        "  model = Doc2Vec(vector_size=20, min_count=2, epochs=50)\n",
        "  tagged_data = [TaggedDocument(words=sentences, tags=[str(i)]) for i, sentences in enumerate(clean_docs)]\n",
        "\n",
        "  model.build_vocab(tagged_data)\n",
        "\n",
        "  model.train(tagged_data, total_examples=model.corpus_count, epochs=model.epochs)\n",
        "\n",
        "  return model"
      ]
    },
    {
      "cell_type": "code",
      "execution_count": null,
      "metadata": {
        "id": "BfCvjZ74Y5tU"
      },
      "outputs": [],
      "source": [
        "def get_d2v_doc_vectors(model, document_vectors):\n",
        "  return [model.infer_vector(sentences) for sentences in clean_docs]"
      ]
    },
    {
      "cell_type": "code",
      "execution_count": null,
      "metadata": {
        "id": "Mcv2kmWxZZV6"
      },
      "outputs": [],
      "source": [
        "d2v_model = get_d2v_model(document_vectors=clean_docs)"
      ]
    },
    {
      "cell_type": "code",
      "execution_count": null,
      "metadata": {
        "id": "aIey42u2ZIbI"
      },
      "outputs": [],
      "source": [
        "d2v_document_vectors = get_d2v_doc_vectors(d2v_model, clean_docs)"
      ]
    },
    {
      "cell_type": "code",
      "execution_count": null,
      "metadata": {
        "colab": {
          "base_uri": "https://localhost:8080/",
          "height": 1000
        },
        "id": "uz9wd6nIZss4",
        "outputId": "ba0efc9f-c404-46a9-926a-815e9ecb7f48"
      },
      "outputs": [
        {
          "data": {
            "image/png": "[encoded data removed]",
            "text/plain": [
              "<Figure size 1200x1200 with 1 Axes>"
            ]
          },
          "metadata": {},
          "output_type": "display_data"
        }
      ],
      "source": [
        "tsne_plot(d2v_model, d2v_document_vectors, caption=\"Plot visualization of Doc2Vec\")"
      ]
    },
    {
      "cell_type": "markdown",
      "metadata": {
        "id": "eHaxUVTDhO2d"
      },
      "source": [
        "**Question 2.2.2 - Similarity in Word2Vec**\n",
        "\n",
        "Calculate the 3 most similar papers (using cosine similarity) using the embedding for 5 random documents"
      ]
    },
    {
      "cell_type": "code",
      "execution_count": null,
      "metadata": {
        "colab": {
          "base_uri": "https://localhost:8080/"
        },
        "id": "1jxkpcSoaOkO",
        "outputId": "9388c057-7dfe-4bab-846d-5191582ae1e6"
      },
      "outputs": [
        {
          "name": "stdout",
          "output_type": "stream",
          "text": [
            "\n",
            "Research Article\n",
            "Heat Production and RF Detection during Cathodic Polarization of\n",
            "Palladium in 0.1 M LiOD\n",
            "The study of the Fleischmann–Pons Effect (FPE), i.e. the production of excess power production during electrochemical loading\n",
            "of deuterium in palladium (in the past labeled cold fusion) has had a notably multidisciplinary character, involving solid state and\n",
            "nuclear physics, material science, electrochemistry and other ﬁelds. Correlations between the material status and the occurrence of\n",
            "the effect as well as some changes in the electrochemical interface status have been observed. Although during the last two decades,\n",
            "in several calorimetric experiments the effect was observed to be well above the measurement uncertainty, the mechanism producing\n",
            "the excess power is not completely understood. So far, the lack of reproducibility has been responsible for the absence of a clear\n",
            "explanation of the phenomenon based on experimental apparatus designed to enhance the spectrum of information required to\n",
            "deﬁne the effect. Recently, In order to improve this aspect of this research, speciﬁc work has been carried out to investigate whether\n",
            "the excess power was produced concurrently with the emission of Radio Frequency from the active cathode. Suitable probes\n",
            "and triggering included in the RF experimental system revealed RF signal emission during electrochemical loading of palladium\n",
            "samples, and a correlation between the heat production, in active samples, and RF signal emission was found. The preliminary\n",
            "results highlight the importance of performing studies on the electrodynamic effects that may be involved in the phenomenon, and\n",
            "the importance of the design of appropriate instruments designed to investigate unexplored regions of metal hydrogen systems.\n",
            "c\n",
            "\"\n",
            "2016 ISCMNS. All rights reserved. ISSN 2227-3123\n",
            "Keywords: Anomalous heat effect in metal hydride, Electrochemistry, Electromagnetic stimulation, Fleischmann and Pons effect,\n",
            "Metal hydrides and deuterides, Palladium, Palladium alloys, Radiofrequency\n",
            " \n",
            "\n",
            "Most similar documents: [(0.95792645, 1), (0.84141445, 7), (0.8162593, 6)]\n",
            "\n",
            "\n",
            "\n",
            "\n",
            "Research Article\n",
            "Electromagnetic Emission in the kHz to GHz Range Associated with\n",
            "Heat Production During Electrochemical Loading of Deuterium into\n",
            "Palladium: A Summary and Analysis of Results Obtained by\n",
            "Different Research Groups\n",
            "There is a small literature on the combination of low energy nuclear reactions (LENR) experiments and radiofrequencies (RF).\n",
            "The papers are worth attention in case they can teach anything about the mechanisms behind LENR. Application of RF to LENR\n",
            "electrochemical cells in the mid-1990s clearly showed increases in the production of excess power. More recently, RF have been\n",
            "measured in LENR cells. However, it is still possible that those data are artifacts of the operation of the system, and not indicative of\n",
            "LENR. It has been suggested that the appearance of RF in LENR experiments is the cause of LENR, and not merely a manifestation\n",
            "of such reactions. That possibility has signiﬁcant implications. In the present paper, we summarize and analyze the results obtained\n",
            "by different research groups concerning the application and emission of RF in the kHz to GHz range associated with heat production\n",
            "during electrochemical loading of deuterium into palladium.\n",
            "c\n",
            "2016 ISCMNS. All rights reserved. ISSN 2227-3123\n",
            "\"\n",
            "Keywords: Electromagnetic emissions, Electromagnetic radiation, Excess power, LENR, Heat production\n",
            " \n",
            "\n",
            "Most similar documents: [(0.7046662, 18), (0.69023246, 20), (0.65780836, 10)]\n",
            "\n",
            "\n",
            "\n",
            "\n",
            "EXCESS HEAT PRODUCTION IN Pd/D DURING PERIODIC\n",
            "PULSE DISCHARGE CURRENT IN VARIOUS\n",
            "CONDITIONS\n",
            "Experimental data from low energy nuclear reactions (LERN) in condensed media are presented. The\n",
            "nuclear reactions products were found in solid cathode media used in glow discharge. Apparently, the nuclear\n",
            "reactions were initiated when bombarding the cathode surface by plasma ions with the energy of 1.0-2.0 keV.\n",
            "Excess heat from a high current glow discharge reaction in D2, Xe and Kr using cathodes already charged\n",
            "with preliminary deuterium-charged Pd and Ti cathode samples are given. Excess heat up to 10 - 15 W and\n",
            "efficiency up to 130% was recorded under the experiments for Pd cathode samples in D2 discharge. Excess\n",
            "heat up to 5 W and efficiency up to 150% was recorded for Pd cathodes that were charged with deuterium\n",
            "before the run, in Xe and Kr discharges. At the same time excess heat was not observed for pure Pd cathode\n",
            "samples in Xe and Kr discharges. The formation of impurity nuclides (7Li, 13C, 15N, 20Ne, 29Si, 44Ca, 48Ca,\n",
            "56Fe, 57Fe, 59Co, 64Zn, 66Zn, 75As, 107Ag, 109Ag, 110Cg, 111Cg, 112Cg, 114Cg, 115In) with the efficiency up to 1013\n",
            "atoms/s was recorded. The isotopic ratios of these new nuclides was quite different from the natural ratios.\n",
            "Soft X-ray radiation from the solid-state cathode with the intensity up to 0.01Gy/s was recorded in\n",
            "experiments with discharges in H2, D2, Ar, Xe and Kr. The X-ray radiation was observed in bursts of up to\n",
            "106 photons, with up to 105 bursts per second while the discharge was formed and within 100 ms after turning\n",
            "off the discharge current. The results of the X-ray radiation registration showed that the exited energy levels\n",
            "have a lifetime up to 100 ms or more, and the energy of 1.2 - 2.5 keV. A possible mechanism for producing\n",
            "excess heat and nuclear transmutation reactions in the solid medium with the exited energy levels is\n",
            "considered.\n",
            " \n",
            "\n",
            "Most similar documents: [(0.92831075, 8), (0.8640147, 9), (0.84151644, 18)]\n",
            "\n",
            "\n",
            "\n",
            "\n",
            "MATERIALS ISSUES OF LOADING DEUTERIUM INTO PALLADIUM AND \n",
            "THE ASSOCIATION WITH EXCESS HEAT PRODUCTION \n",
            "The ability of palladium cathodes to attain and maintain high loading levels, at high \n",
            "current density and for long times, is controlled by two factors: the condition of the \n",
            "electrochemical interface which allows the attainment of high deuterium activity; the defect \n",
            "density and mechanical condition of the bulk material which permits the Pd lattice to withstand \n",
            "and contain high bulk deuterium activities when these equilibrate to produce extreme pressures of \n",
            "deuterium gas inside closed incipient voids within the metal. \n",
            "Examples are given from a set of 26 intentionally similar current ramps which show \n",
            "three distinct Modes of loading performance: Mode A - a linear decrease of Pd resistance, \n",
            "beyond the resistance maximum, with logarithmic increase in electrochemical current; Mode B -an \n",
            "initial log-linear decrease on the Mode A trajectory, followed by a rapid increase in resistance \n",
            "when the resistance falls below a critical value; Mode C -  a shallow decrease in resistance with \n",
            "approximately symmetric increase as the [log] current density is increased beyond a threshold \n",
            "value similar to that for Mode B. Mode A is most frequently associated with the appearance of \n",
            "calorimetrically determined excess heat. \n",
            " \n",
            "\n",
            "Most similar documents: [(0.93182606, 4), (0.9139844, 6), (0.899695, 31)]\n",
            "\n",
            "\n",
            "\n",
            "\n",
            "Excess Heat Production and Nuclear Ash in PdO/Pd/PdO Heterostructure \n",
            "after Electrochemical Saturation with Deuterium \n",
            "Heat production nuclear ash and electrophysical processes in PdO/Pd/PdO (Au/Pd/PdO) \n",
            "heterostructures electrochemically saturated with deuterium (hydrogen) have been \n",
            "investigated. It was shown in after electrolysis period a strong heat flash with duration of 2-7 \n",
            "s and energy density of 60-100 J/cm2 was observed for Pd/PdO:D(H) sample placed in air \n",
            "atmosphere. The thermal energy of each flash was approximately 2-5 times higher than the \n",
            "energy supplied to the sample during electrolysis. Neutron- and γ-emissions accompanying \n",
            "the heat production have been investigated. \n",
            " \n",
            "\n",
            "Most similar documents: [(0.86845607, 28), (0.7749384, 23), (0.77420044, 30)]\n",
            "\n",
            "\n",
            "\n"
          ]
        }
      ],
      "source": [
        "doc_ids = [0, 17, 10, 7, 29]\n",
        "similar_docs = get_similar_docs(doc_ids, d2v_document_vectors)\n",
        "\n",
        "for i, score in enumerate(similar_docs):\n",
        "  print(f\"\\n{docs[i]} \\n\")\n",
        "  print(f\"Most similar documents: {score}\")\n",
        "  print(\"\\n\\n\")"
      ]
    },
    {
      "cell_type": "markdown",
      "metadata": {
        "id": "Hd0pfM0mg0qt"
      },
      "source": [
        "**Question 2.2 - Similarity Comparisions**\n",
        "\n",
        "Word2vec ```(min_count=6, vector_size=100, epochs=50)```\n",
        "```\n",
        "0 [(0.99984914, 1), (0.9998327, 6), (0.99980533, 26)]\n",
        "17 [(0.9998421, 13), (0.99980986, 27), (0.99973106, 2)]\n",
        "10 [(0.9998444, 13), (0.99983484, 8), (0.9997717, 11)]\n",
        "7 [(0.9998166, 6), (0.99980927, 4), (0.99977946, 0)]\n",
        "29 [(0.9997995, 28), (0.9997931, 30), (0.9995673, 1)]\n",
        "```\n",
        "\n",
        "Doc2vec\n",
        "```\n",
        "0 [(0.95825624, 1), (0.83267415, 7), (0.8172781, 6)]\n",
        "17 [(0.70169884, 18), (0.6927954, 20), (0.6547136, 10)]\n",
        "10 [(0.9268935, 8), (0.8606489, 9), (0.8422788, 18)]\n",
        "7 [(0.9396712, 4), (0.9090893, 6), (0.89468586, 31)]\n",
        "29 [(0.87092674, 28), (0.7706704, 30), (0.76955, 23)]\n",
        "```\n",
        "\n",
        "\n",
        "## Word Embeddings (Word2Vec) Anaysis using cosine similarity between documents.\n",
        "\n",
        "- **doc1: doc2 < doc7 < doc 27** -\n",
        "We can clearly see that results for doc1, results in relevant documents.\n",
        "doc18: doc14 < doc28 < doc3 := We can see that groupings are relevant, but the ordering is odd and most similar document has very less common compared to other choices.\n",
        "\n",
        "- **doc11: doc14 < doc9 < doc12**\n",
        "The groupings are relevant, the top two most similar docs are good, but the third doc has very less similarity.\n",
        "\n",
        "- **doc8: doc7 < doc5 < doc1**\n",
        "The groups are relavant, and there are less flaws.\n",
        "\n",
        "- **doc29: doc28, doc30, doc1**\n",
        "The grouping is relevant regarding Palladium electrolysis and transmutation,\n",
        "except one doc which talks only about heat generation during electrolysis.\n",
        "\n",
        "### **doc1: doc2 < doc7 < doc 27.**\n",
        "- doc1 -> Heat detection during electrochemical process on Palladium node, related to Fleischmann–Pons Effect. Detection of RF signal emission.\n",
        "- doc2 -> A summary and analysis of electro magnetic emission in a certain frequency range, during heat generation of electro-chemical reaction between Palladium and Deutirium.\n",
        "- doc7 -> Heat Generation during electrolyis of Palladium and Deutirium.\n",
        "- doc27 -> Transumation of condensed matter involved during Flesichmann-Pons Effect of Palladium and Deutirium.\n",
        "\n",
        "**Notes**: We can see that doc1 is mainly related to radio frequency and heat generation in FPE phenomenon. The doc2 which had the highest correlation\n",
        "was mainly related to Radio Frequency analysis of FPE during heat generation of PFE, and cosine similarity was able to capture both the effects,\n",
        "ans suggest similar paper. doc7 was related to just heat generation during electrolyis of Pd and H2, it was only able to capture one aspect of doc1.\n",
        "The doc27, mainly talked about transmutation of condensed matter, which was completly different, only common thing was FPE of Pd and Deutirium.\n",
        "\n",
        "\n",
        "### **doc18: doc14 < doc28 < doc3.**\n",
        "- doc18 -> Plasma generation using Ni-Foil chathodic electrolysis. Study transmultation, hole burned and heat during HHP of electrode.\n",
        "- doc14 -> Study of three experiments, one is Palladium and D20, second is electron beam irradiation and ion beam bombardment on Titanium deuteride.\n",
        "- doc28 -> LENR on Ni-H system, using Ni and cathode and Platinum as anode, study of transmutation during electrolysis.\n",
        "- doc3 -> Palladium Titanium electorlysis and study heat and transmutation during this process.\n",
        "\n",
        "**Notes:** We can see that the doc18 talks about plasma generation and its study of transumations and hole burned through heat generation. the doc14\n",
        "just talks about electroysis, electron beam generation and ion beam bombardment, which does match much of doc18. The doc28 has the highest\n",
        "similarity as the talks about Ni involved in electrolyis and study of transmutation. The doc3, is similar because of study of transmutation during\n",
        "Pd electrolysis.\n",
        "\n",
        "\n",
        "### **doc11: doc14 < doc9 < doc12**\n",
        "- doc11: Talks about application of these two techniques on thin foils: focused ion beam and nano-identation.\n",
        "- doc14 -> Study of three experiments, one is Palladium and D20, second is electron beam irradiation and ion beam bombardment on Titanium deuteride.\n",
        "- doc9 -> Description about a new Ion-beam system in Russia, that can be used for LENR experiment.\n",
        "- doc12 -> Electron beam excitation of Palladium and Titanium, charged particle emmision during LENR in Deutirium system.\n",
        "\n",
        "**Notes**: The doc11 mainly talks about ion beam and nono-identation, the doc14 correctly talks about multiple experiments and ion beam bombardment\n",
        "on titanium. The doc9 talks about ion beam system of a system in Russia and doc12 has the least similar and talks about electron beam instead of\n",
        "ion beam.\n",
        "\n",
        "### **doc8: doc7 < doc5 < doc1**\n",
        "- doc8 -> study of heat generation in PFE, heat generation, onset of current density using Palladium cathode.\n",
        "- doc7 -> Heat Generation during electrolyis of Palladium and Deutirium\n",
        "- doc5 -> Heat generation and nuclear ash in Palladium electrolyiss.\n",
        "- doc1 -> Heat detection during electrochemical process on Palladium node, related to Fleischmann\\-Pons Effect. Detection of RF signal emission.\n",
        "\n",
        "**Notes:** All the docs are related to heat generation during Palladium electrolysis.\n",
        "\n",
        "\n",
        "### **doc29: doc28, doc30, doc1**\n",
        "- doc29 - Study of Transmutation and inertness of Palladium.\n",
        "- doc28 -> LENR on Ni-H system, using Ni and cathode and Platinum as anode, study of transmutation during electrolysis.\n",
        "- doc30 -> Study and transmutation during LENR and its correlation to abundance of elements on earth's crust.\n",
        "- doc1 -> Heat detection during electrochemical process on Palladium node, related to Fleischmann Pons Effect. Detection of RF signal emission.\n",
        "\n",
        "**Notes:** The grouping is good except document1, which does not talk about transmutation."
      ]
    },
    {
      "cell_type": "markdown",
      "metadata": {
        "id": "phb9TEvsE3cz"
      },
      "source": [
        "**Question 3 - Dimensionality Reduction**\n",
        "\n",
        "Since the input embeddings are often high in dimensionality, clustering becomes difficult due to the curse of dimensionality.\n",
        "\n",
        "Applying PCA/Incremental PCA dimensionality reduction on our documents"
      ]
    },
    {
      "cell_type": "code",
      "execution_count": null,
      "metadata": {
        "id": "Z6edoTrgGIYB"
      },
      "outputs": [],
      "source": [
        "from sklearn.decomposition import PCA, IncrementalPCA     # inital reduction\n",
        "import numpy as np                                        # array handling"
      ]
    },
    {
      "cell_type": "code",
      "execution_count": null,
      "metadata": {
        "id": "n8ksc_F7Elz4"
      },
      "outputs": [],
      "source": [
        "def reduce_dimensions(doc_vectors, dimensions):\n",
        "    num_dimensions = dimensions  # final num dimensions (2D, 3D, etc)\n",
        "\n",
        "    # extract the words & their vectors, as numpy arrays\n",
        "    vectors = np.asarray(doc_vectors)\n",
        "\n",
        "    # reduce using t-SNE\n",
        "    pca = PCA(n_components=num_dimensions)\n",
        "    return pca.fit_transform(vectors)"
      ]
    },
    {
      "cell_type": "code",
      "execution_count": null,
      "metadata": {
        "id": "T6fW0k-PcQ_G"
      },
      "outputs": [],
      "source": [
        "w2v_reduced_vectors = reduce_dimensions(w2v_document_vectors, 30)"
      ]
    },
    {
      "cell_type": "code",
      "execution_count": null,
      "metadata": {
        "colab": {
          "base_uri": "https://localhost:8080/"
        },
        "id": "WkIZfeNfcfA8",
        "outputId": "05fc02c7-cdbd-449d-c078-25fffd6bfdf4"
      },
      "outputs": [
        {
          "name": "stdout",
          "output_type": "stream",
          "text": [
            "32\n",
            "30\n"
          ]
        }
      ],
      "source": [
        "print(len(w2v_reduced_vectors))\n",
        "print(w2v_reduced_vectors[0].shape[0])"
      ]
    },
    {
      "cell_type": "markdown",
      "metadata": {
        "id": "_Iq1DJGhiUtJ"
      },
      "source": [
        "**Question 4 - Clustering**\n",
        "\n",
        "Cluster the reduced embeddings into groups of similar embeddings. We use K-Means clustering on the Word2Vec trained word vectors."
      ]
    },
    {
      "cell_type": "code",
      "execution_count": null,
      "metadata": {
        "id": "6r2CzaEMtYJ6"
      },
      "outputs": [],
      "source": [
        "from sklearn.cluster import KMeans"
      ]
    },
    {
      "cell_type": "code",
      "execution_count": 80,
      "metadata": {
        "id": "XzMjHrezgCTZ"
      },
      "outputs": [],
      "source": [
        "def plot_elbow(k_means_data, topic):\n",
        "  wcss = []\n",
        "  for i in range(1, 11):\n",
        "      kmeans = KMeans(n_clusters = i, n_init='auto', random_state = 0)\n",
        "      kmeans.fit(k_means_data)\n",
        "      wcss.append(kmeans.inertia_)\n",
        "\n",
        "  plt.figure(figsize=(7,7))\n",
        "  plt.plot(range(1, 11), wcss)\n",
        "  plt.xlabel('Number of clusters')\n",
        "  plt.ylabel('Sum of Squared distance from centroid')\n",
        "  plt.title(f\"Finding the elbow for clustering - {topic}\")\n",
        "  plt.show()"
      ]
    },
    {
      "cell_type": "code",
      "execution_count": 81,
      "metadata": {
        "colab": {
          "base_uri": "https://localhost:8080/",
          "height": 1000
        },
        "id": "UUqZ9CvQ-9z7",
        "outputId": "1852c75e-b796-4f60-a43f-229e1a9e67d2"
      },
      "outputs": [
        {
          "data": {
            "image/png": "[encoded data removed]",
            "text/plain": [
              "<Figure size 700x700 with 1 Axes>"
            ]
          },
          "metadata": {},
          "output_type": "display_data"
        },
        {
          "name": "stdout",
          "output_type": "stream",
          "text": [
            "\n",
            "\n"
          ]
        },
        {
          "data": {
            "image/png": "[encoded data removed]",
            "text/plain": [
              "<Figure size 700x700 with 1 Axes>"
            ]
          },
          "metadata": {},
          "output_type": "display_data"
        }
      ],
      "source": [
        "plot_elbow(w2v_reduced_vectors, \"Word2Vec\")\n",
        "print(\"\\n\")\n",
        "plot_elbow(d2v_document_vectors, \"Doc2Vec\")"
      ]
    },
    {
      "cell_type": "markdown",
      "metadata": {
        "id": "gPrdft66nVnZ"
      },
      "source": [
        "**Elbow Method**\n",
        "\n",
        "At k = 5, we observe that the graph becomes parallel to the x-axis.\n",
        "Hence the optimal no. of clusters is 5"
      ]
    },
    {
      "cell_type": "code",
      "execution_count": null,
      "metadata": {
        "id": "2kbGdFk8jyVO"
      },
      "outputs": [],
      "source": [
        "total_clusters = 5"
      ]
    },
    {
      "cell_type": "code",
      "execution_count": null,
      "metadata": {
        "id": "-jwgsAJI_Yd5"
      },
      "outputs": [],
      "source": [
        "def cluster(data, num_clusters):\n",
        "  kmeans = KMeans(n_clusters = num_clusters, n_init='auto', random_state = 0)\n",
        "  return kmeans.fit(data)"
      ]
    },
    {
      "cell_type": "code",
      "execution_count": null,
      "metadata": {
        "colab": {
          "base_uri": "https://localhost:8080/"
        },
        "id": "KYw2KHiAkCSY",
        "outputId": "5bdac890-6a17-41e3-dc60-fea8191cbea2"
      },
      "outputs": [
        {
          "data": {
            "text/plain": [
              "array([4, 2, 0, 3, 1, 3, 3, 1, 1, 1, 1, 3, 0, 4, 2, 4, 2, 3, 1, 1, 2, 2,\n",
              "       1, 1, 3, 3, 2, 4, 1, 3, 1, 3], dtype=int32)"
            ]
          },
          "execution_count": 53,
          "metadata": {},
          "output_type": "execute_result"
        }
      ],
      "source": [
        "cluster_info = cluster(w2v_reduced_vectors, total_clusters)\n",
        "cluster_info.labels_"
      ]
    },
    {
      "cell_type": "markdown",
      "metadata": {
        "id": "3i6dN-cODB8k"
      },
      "source": [
        "**Question 4a - Representative documents**"
      ]
    },
    {
      "cell_type": "code",
      "execution_count": null,
      "metadata": {
        "id": "wSN1f7FeJy5D"
      },
      "outputs": [],
      "source": [
        "from sklearn.utils.discovery import itemgetter"
      ]
    },
    {
      "cell_type": "code",
      "execution_count": null,
      "metadata": {
        "id": "wiqsQB_4DA4X"
      },
      "outputs": [],
      "source": [
        "def get_representative_documents(clusters, documents, document_vectors, cluster_count):\n",
        "  labels = clusters.labels_\n",
        "  centroids = clusters.cluster_centers_\n",
        "  clustered_docs = [[] for i in range(0, cluster_count)]\n",
        "\n",
        "  for i in range(0, len(documents)):\n",
        "    dist = np.linalg.norm(document_vectors[i] - centroids[labels[i]])\n",
        "    clustered_docs[labels[i]].append((documents[i], dist))\n",
        "\n",
        "  rep_docs = []\n",
        "  for i in range(0, cluster_count):\n",
        "    clustered_docs[i].sort(key=itemgetter(1))\n",
        "    rep_docs.append(clustered_docs[i][:3])\n",
        "\n",
        "  return rep_docs\n",
        "\n",
        "\n"
      ]
    },
    {
      "cell_type": "code",
      "execution_count": null,
      "metadata": {
        "id": "28dgMsm1H1xB"
      },
      "outputs": [],
      "source": [
        "representative_docs = get_representative_documents(cluster_info, docs, w2v_reduced_vectors, total_clusters)"
      ]
    },
    {
      "cell_type": "code",
      "execution_count": null,
      "metadata": {
        "colab": {
          "base_uri": "https://localhost:8080/"
        },
        "id": "CZ_uNm2dLuot",
        "outputId": "1463221c-6c50-4af4-8b74-e3b394264501"
      },
      "outputs": [
        {
          "name": "stdout",
          "output_type": "stream",
          "text": [
            "\n",
            "____________________\n",
            "\n",
            "Cluster Number - 0\n",
            "\n",
            "\n",
            "Document: \n",
            "\n",
            "RESEARCH INTO CHARACTERISTICS OF X-RAY EMISSION\n",
            "LASER BEAMS FROM SOLID-STATE CATHODE MEDIUM OF\n",
            "HIGH-CURRENT GLOW DISCHARGE\n",
            "X-ray emissions ranging 1.2 – 3.0 keV with dose rate up to 1.0 Gy/s have been registered in\n",
            "experiments with high-current Glow Discharge. The emissions energy and intensity depend on\n",
            "the cathode material; the kind of plasma-forming gas; and the discharge parameters. The\n",
            "experiments were carried out on the high-current glow discharge device using D2, H2, Kr and Xe\n",
            "at pressure up to 10 Torr, as well as cathode samples made from Al, Sc, Ti, Ni, Nb, Zr, Mo, Pd,\n",
            "Ta, W, Pt, at current up to 500 mA and discharge voltage of 500-2500 V. Two emission modes\n",
            "were revealed under the experiments: 1. Diffusion X-rays was observed as separate X-ray bursts\n",
            "(up to 5×105 bursts a second and up to 106 X-ray quanta in a burst); 2. X-rays in the form of laser\n",
            "microbeams (up to 104 beams a second and up to 1010 X-ray of quanta in a beam, angular\n",
            "divergence was up to 10-4, the duration of the separate laser beams must be τ =3·10-13 - 3·10-14 s,\n",
            "the separate beam power must be 107 – 108 W). The emission of the X-ray laser beams occurred\n",
            "when the discharge occurred and within 100 ms after turning off the current. The results of\n",
            "experimental research into the characteristics of secondary penetrating radiation occurring when\n",
            "interacting primary X-ray beams from a solid-state cathode medium with targets made of various\n",
            "materials are reported. It was shown that the secondary radiation consisted of fast electrons.\n",
            "Secondary radiation of two types was observed: 1. The emission with a continuous temporal\n",
            "spectrum in the form of separate bursts with intensity up to 106 fast electrons a burst. 2. The\n",
            "emission with a discrete temporal spectrum and emission rate up to 1010 fast electrons a burst. A\n",
            "third type of the penetrating radiation was observed as well. This type was recorded directly by\n",
            "the photomultiplier placed behind of the target without the scintillator. The abnormal high\n",
            "penetrating ability of this radiation type requires additional research to explain. The obtained\n",
            "results show that creating optically active medium with long-living metastable levels with the\n",
            "energy of 1.0 - 3.0 keV and more is possible in the solid state.\n",
            "\n",
            "\n",
            "\n",
            "Document: \n",
            "\n",
            "EXCESS HEAT PRODUCTION IN Pd/D DURING PERIODIC\n",
            "PULSE DISCHARGE CURRENT IN VARIOUS\n",
            "CONDITIONS\n",
            "Experimental data from low energy nuclear reactions (LERN) in condensed media are presented. The\n",
            "nuclear reactions products were found in solid cathode media used in glow discharge. Apparently, the nuclear\n",
            "reactions were initiated when bombarding the cathode surface by plasma ions with the energy of 1.0-2.0 keV.\n",
            "Excess heat from a high current glow discharge reaction in D2, Xe and Kr using cathodes already charged\n",
            "with preliminary deuterium-charged Pd and Ti cathode samples are given. Excess heat up to 10 - 15 W and\n",
            "efficiency up to 130% was recorded under the experiments for Pd cathode samples in D2 discharge. Excess\n",
            "heat up to 5 W and efficiency up to 150% was recorded for Pd cathodes that were charged with deuterium\n",
            "before the run, in Xe and Kr discharges. At the same time excess heat was not observed for pure Pd cathode\n",
            "samples in Xe and Kr discharges. The formation of impurity nuclides (7Li, 13C, 15N, 20Ne, 29Si, 44Ca, 48Ca,\n",
            "56Fe, 57Fe, 59Co, 64Zn, 66Zn, 75As, 107Ag, 109Ag, 110Cg, 111Cg, 112Cg, 114Cg, 115In) with the efficiency up to 1013\n",
            "atoms/s was recorded. The isotopic ratios of these new nuclides was quite different from the natural ratios.\n",
            "Soft X-ray radiation from the solid-state cathode with the intensity up to 0.01Gy/s was recorded in\n",
            "experiments with discharges in H2, D2, Ar, Xe and Kr. The X-ray radiation was observed in bursts of up to\n",
            "106 photons, with up to 105 bursts per second while the discharge was formed and within 100 ms after turning\n",
            "off the discharge current. The results of the X-ray radiation registration showed that the exited energy levels\n",
            "have a lifetime up to 100 ms or more, and the energy of 1.2 - 2.5 keV. A possible mechanism for producing\n",
            "excess heat and nuclear transmutation reactions in the solid medium with the exited energy levels is\n",
            "considered.\n",
            "\n",
            "\n",
            "____________________\n",
            "\n",
            "Cluster Number - 1\n",
            "\n",
            "\n",
            "Document: \n",
            "\n",
            "Excess Heat Production and Nuclear Ash in PdO/Pd/PdO Heterostructure \n",
            "after Electrochemical Saturation with Deuterium \n",
            "Heat production nuclear ash and electrophysical processes in PdO/Pd/PdO (Au/Pd/PdO) \n",
            "heterostructures electrochemically saturated with deuterium (hydrogen) have been \n",
            "investigated. It was shown in after electrolysis period a strong heat flash with duration of 2-7 \n",
            "s and energy density of 60-100 J/cm2 was observed for Pd/PdO:D(H) sample placed in air \n",
            "atmosphere. The thermal energy of each flash was approximately 2-5 times higher than the \n",
            "energy supplied to the sample during electrolysis. Neutron- and γ-emissions accompanying \n",
            "the heat production have been investigated. \n",
            "\n",
            "\n",
            "\n",
            "Document: \n",
            "\n",
            "Searching for excess heat in Mizuno-type plasma electrolysis\n",
            "Abstract\n",
            "Excess heat generated in the glow discharge plasma electrolysis, first reported by\n",
            "Mizuno and Ohmori (1), has been studied by several researchers, both in Japan (2,\n",
            "3, 4) and in other countries (5, 6, 7, 8). Most reports, but not all, confirmed\n",
            "generation of excess heat. Facing this situation we decided to replicate the most\n",
            "recent experiment (8) in which excess heat was reported to increase with voltage.\n",
            "Our results do not confirm reality of excess heat.\n",
            "\n",
            "\n",
            "\n",
            "Document: \n",
            "\n",
            "Charged Particle Emissions and Surface Morphology of Pd/PdO:Dx \n",
            "and TiDx Targets Under Electron Beam Excitation \n",
            "Abstract.  We  report  charged  particle  emission  from  metal  deuterides  upon  e-beam  excitation  of \n",
            "their surface.  Detection  and identification was made using CR-39 plastic track detectors with Cu \n",
            "and Al absorbers.  Protons with primary energy 3 MeV and α-particles with energies Eα> 10 MeV \n",
            "are observed. \n",
            "\n",
            "\n",
            "____________________\n",
            "\n",
            "Cluster Number - 2\n",
            "\n",
            "\n",
            "Document: \n",
            "\n",
            "Research Article\n",
            "Screening Energy of the d+d Reaction in an Electron Plasma\n",
            "Deduced from Cooperative Colliding Reaction\n",
            "We have measured protons and tritons from the d (d,p) t reaction in liquid In, Sn, Pb and Bi during the D+\n",
            "3 molecular deuterium\n",
            "beam bombardment for 15 < E < 60 keV. Observed energy spectra and yield excitation functions are anomalous and suggest that\n",
            "the target deuteron is also in motion. It is found that the reaction mechanism is unique to the molecular beam in such a way that one\n",
            "deuteron in a molecule is elastically scattered by a host metal atom and then it collides with the other to cause the d+d reaction.\n",
            "We call it as the cooperative colliding mechanism (CCM). Experimental data are compared with the CCM calculation and values of\n",
            "the screening energy of the d+d reaction are deduced. They are 380\n",
            "100 eV for In, Sn, Pb\n",
            "and Bi, respectively. It is concluded that the screening energy of the d+d reaction in an electron plasma in metal is really large: the\n",
            "averaged value of 530 eV is more than ten times larger than the simple Thomas–Fermi screening prediction.\n",
            "c\n",
            "\"\n",
            "2016 ISCMNS. All rights reserved. ISSN 2227-3123\n",
            "100 and 490\n",
            "Keywords: Cooperative colliding mechanism, DD reaction in metal, Liquid metal, Low-energy deuteron beam, Screening potential\n",
            "\n",
            "\n",
            "\n",
            "Document: \n",
            "\n",
            "Research Article\n",
            "Transmutations Involving the Di-neutron in Condensed Matter\n",
            "It has been recently revealed how a lattice bound proton, in an electrochemical cathode, can absorb a relativistic electron\n",
            "yielding a neutron. There is no longer much doubt that the analogous electron capture by a deuteron, in condensed matter,\n",
            "(e−real +1 p\n",
            "+ νe) is even more efﬁcient, where the arrows indicate nucleon spins. The life time of the newly\n",
            "formed di-neutron may be vanishingly short, but in the palladium deuteride matrix, we show that it is certainly sufﬁciently long to\n",
            "undergo transmutation with constituents of the matrix as well as added “impurities” to yield both isotopic and isotonic products:\n",
            "108Pd). When the agent capturing the di-neutron is 1H, tritium is the result. When it is 2H, 4He and heat\n",
            "i.e. (0n\n",
            "are the products (the Fleishmann Pons Heat Effect). Consistent with the tendency of di-neutrons to cluster, multiple di-neutrons are\n",
            "occasionally captured yielding neutron heavy nuclei. This is followed by beta decay and the respective isotonic products. We show\n",
            "that, within the PdD matrix, these di-neutron reactions involve phonon enforced quantum tunneling. The di-neutron-phonon mech-\n",
            "anism fully accounts for the following: (1) the evolved heat commensurate with 4He production, (2) the production of tritium when\n",
            "small amounts of 1H are present, (3) the release of feeble neutrons, (4) the formation of Pr when Cs is present, (5) the ostensive\n",
            "intermittent reproducibility and erratic (chaotic) heat out-puts, and (6) the seemingly major problem of obfuscating the Coulombic\n",
            "repulsion issue. Indeed, the antics of the di-neutron can fully explain the important aspects of normal temperature LENR heat\n",
            "effects and transmutations. Further, the di-neutron paradigm (mechanism) falls within the normal bounds of the Standard Model,\n",
            "and it is without the necessity of exotic forms of matter.\n",
            "c\n",
            "#\n",
            "Keywords: Chaos, Di-neutron, Electron Capture, 3H, 4mH, Palladium-128, Transmutation\n",
            "2019 ISCMNS. All rights reserved. ISSN 2227-3123\n",
            "\n",
            "\n",
            "\n",
            "Document: \n",
            "\n",
            "Research Article\n",
            "Electromagnetic Emission in the kHz to GHz Range Associated with\n",
            "Heat Production During Electrochemical Loading of Deuterium into\n",
            "Palladium: A Summary and Analysis of Results Obtained by\n",
            "Different Research Groups\n",
            "There is a small literature on the combination of low energy nuclear reactions (LENR) experiments and radiofrequencies (RF).\n",
            "The papers are worth attention in case they can teach anything about the mechanisms behind LENR. Application of RF to LENR\n",
            "electrochemical cells in the mid-1990s clearly showed increases in the production of excess power. More recently, RF have been\n",
            "measured in LENR cells. However, it is still possible that those data are artifacts of the operation of the system, and not indicative of\n",
            "LENR. It has been suggested that the appearance of RF in LENR experiments is the cause of LENR, and not merely a manifestation\n",
            "of such reactions. That possibility has signiﬁcant implications. In the present paper, we summarize and analyze the results obtained\n",
            "by different research groups concerning the application and emission of RF in the kHz to GHz range associated with heat production\n",
            "during electrochemical loading of deuterium into palladium.\n",
            "c\n",
            "2016 ISCMNS. All rights reserved. ISSN 2227-3123\n",
            "\"\n",
            "Keywords: Electromagnetic emissions, Electromagnetic radiation, Excess power, LENR, Heat production\n",
            "\n",
            "\n",
            "____________________\n",
            "\n",
            "Cluster Number - 3\n",
            "\n",
            "\n",
            "Document: \n",
            "\n",
            "Heat  Production  and  Trial  to  Detect  Nuclear  Products \n",
            "from  Palladium-Deuterium  Electrolysis  Cells \n",
            "2. Electrochemical- CeJJs\n",
            "A burst-like excess heat release, equivalent to 110% of the input electric power, \n",
            "was clearly observed for the first time in our newly built open type electrolysis cell using \n",
            "Pd/0. lMLiOD/Pt.  After being precharged, the cell was driven to boiling three times the \n",
            "last of which continued for about  16 hours to almost dryness.  The burst occurred just \n",
            "during the calm period about 6 hours after the first boiling.  The temperature of the cell, \n",
            "about  100 ml in volume, increased by 7.5 Kin 13 minutes.  A palladium cathode, 2mm¢> \n",
            "x 7.05mm,  was a heat source,  although the mechanism of the heat generation is still \n",
            "uncertain.  During the whole period of this run, however, the phenomenon took place \n",
            "only once.  Neither increase of neutron emission nor that of tritium concentration has \n",
            "been detected.  Mass analysis showed that any traces of  D2 as well as 4He have not\n",
            "remained in the Pd sample used.  Detection of 'Yray emission as well as 3He and 4He in \n",
            "off gas during or just after release of excess power should be yet to be pursued further. \n",
            "\n",
            "\n",
            "\n",
            "Document: \n",
            "\n",
            "Research Article\n",
            "LENR- Experiment on Heterogeneous Hydrocarbon Plasma Jet\n",
            "Interaction with Ni-Foil-Target\n",
            "Heterogeneous Hydrocarbon Plasma (HHP) was used in LENR experiments in the studies [1], [2] for the ﬁrst time. This HHP\n",
            "was created by a pulsed erosive capillary plasma generator (PG). The working erosive substance PMMA (polymethyl-methacrylate,\n",
            "monomer-C5H8O2) was used in this PG. This work is a continuation of the previous ones [1], [2]. A calorimetric experiment with\n",
            "PG and distant Ni-foil cathode has been carried out in argon atmosphere (Pst~1 Bar). It was determined that HHP consists of the\n",
            "carbon nano-clusters and hydrogen atoms + hydrogen ions. These species are connected with dissociation of the initial PMMA.\n",
            "The interaction of HHP with thin Ni-foil target (width 0.1 ÷ 1 mm) has been studied in this work. HHP- jet heats, melts and\n",
            "evaporates this thin Ni-foil target. In a result of this interaction a small hole with diameter 1–3 mm in the Ni-foil target was burned\n",
            "by HHP-jet. Parameters of this hole were measured. Ni-foil weight was measured before and after the experiment also. It was\n",
            "revealed that the value COP was about of 5 ÷ 6 in this experiment (where COP = QT/Qe, QT – thermal energy of heating, melting\n",
            "and evaporating of the Ni-foil-target, Qe-electric energy input for HHP-jet creation). New transmuted chemical elements Li, Al,\n",
            "Ca,. . . were recorded in the HHP by the optical spectroscopy method, the EDS-method and the MS ICP method.\n",
            "© 2022 ICCF. All rights reserved. ISSN 2227-3123\n",
            "Keywords: LENR, heterogeneous hydrocarbon plasma, PMMA, Ni foil, transmutation\n",
            "\n",
            "\n",
            "\n",
            "Document: \n",
            "\n",
            "Research Article\n",
            "Is the Abundance of Elements in Earth’s Crust Correlated with\n",
            "LENR Transmutation Rates?\n",
            "Nuclear transmutations are reported in many low-energy nuclear reaction (LENR) experiments. We showed in a previous study\n",
            "(Scholkmann and Nagel, J. Condensed Matter Nucl. Sci. 13 (2014) 485–494) that (i) the transmutation data of three independent\n",
            "experiments have a similar pattern and (ii) this pattern correlates with a model-based on the prediction of Widom and Larsen (WL).\n",
            "In the present study, we extended our analysis and investigated whether the abundance of elements in Earth’s crust is correlated with\n",
            "either (i) the WL-prediction, or (ii) the three LENR transmutation data sets. The ﬁrst analysis revealed that there is no statistically\n",
            "signiﬁcant correlation between these variables. The second analysis showed a signiﬁcant correlation, but the correlation only\n",
            "reﬂects the trend of the data and not the peak-like pattern. This result strengthens the interpretation that the observed peak-like\n",
            "pattern in the transmutation data sets does not originate from contamination. Further implications of our study are discussed and a\n",
            "recommendation is given for future transmutation experiments.\n",
            "c\n",
            "2016 ISCMNS. All rights reserved. ISSN 2227-3123\n",
            "\"\n",
            "Keywords: Elements in Earth’s crust, Low-energy nuclear reactions (LENR), Neutron scattering strength, Statistical analysis, Trans-\n",
            "mutation, Widom–Larsen theory\n",
            "\n",
            "\n",
            "____________________\n",
            "\n",
            "Cluster Number - 4\n",
            "\n",
            "\n",
            "Document: \n",
            "\n",
            "SEARCH FOR COHERENT DEUTERON FUSION BY \n",
            "BEAM AND ELECTROLYSIS EXPERIMENTS \n",
            "[Abstract] Procedures and results of three kinds of experiments i.e., closed type D2O/Pd electrolysis, \n",
            "electron beam irradiation and ion-beam bombardment on titanium-deuteride (TiDx) have been \n",
            "introduced in this paper. In the electrolysis experiment, upper gas of the electrolysis cell was analyzed \n",
            "using a Quadrupole Mass Analysis System (Q-MAS). Significant amount of helium-4 was detected \n",
            "without neutron emission in several experiments and in one of these experiments, the amount of \n",
            "helium-4 atom in the released gas from the palladium cathode was 8.1x1016 atoms. Under electron \n",
            "beam irradiation to highly D-loaded palladium, anomalous spectra were taken in X-ray measurement. \n",
            "In the experiments using deuteron beam and TiDx, responses which suggested 3D multi-body fusion \n",
            "were taken and the reaction rate of which was increased compared to the D(d,p)T reaction rate, below \n",
            "100 keV. This result may reflect the coherent effect of the solid state in the reactions. From the results \n",
            "of the experiments using proton beam and TiDx, peaks which suggested 3D multi-body reaction were \n",
            "detected with high reproducibility. Moreover, high energetic protons having 17-20 MeV emitted \n",
            "kinetic energy which suggested H-D-D three-body coherent fusion were also detected. \n",
            "\n",
            "\n",
            "\n",
            "Document: \n",
            "\n",
            "Research Article\n",
            "Heat Production and RF Detection during Cathodic Polarization of\n",
            "Palladium in 0.1 M LiOD\n",
            "The study of the Fleischmann–Pons Effect (FPE), i.e. the production of excess power production during electrochemical loading\n",
            "of deuterium in palladium (in the past labeled cold fusion) has had a notably multidisciplinary character, involving solid state and\n",
            "nuclear physics, material science, electrochemistry and other ﬁelds. Correlations between the material status and the occurrence of\n",
            "the effect as well as some changes in the electrochemical interface status have been observed. Although during the last two decades,\n",
            "in several calorimetric experiments the effect was observed to be well above the measurement uncertainty, the mechanism producing\n",
            "the excess power is not completely understood. So far, the lack of reproducibility has been responsible for the absence of a clear\n",
            "explanation of the phenomenon based on experimental apparatus designed to enhance the spectrum of information required to\n",
            "deﬁne the effect. Recently, In order to improve this aspect of this research, speciﬁc work has been carried out to investigate whether\n",
            "the excess power was produced concurrently with the emission of Radio Frequency from the active cathode. Suitable probes\n",
            "and triggering included in the RF experimental system revealed RF signal emission during electrochemical loading of palladium\n",
            "samples, and a correlation between the heat production, in active samples, and RF signal emission was found. The preliminary\n",
            "results highlight the importance of performing studies on the electrodynamic effects that may be involved in the phenomenon, and\n",
            "the importance of the design of appropriate instruments designed to investigate unexplored regions of metal hydrogen systems.\n",
            "c\n",
            "\"\n",
            "2016 ISCMNS. All rights reserved. ISSN 2227-3123\n",
            "Keywords: Anomalous heat effect in metal hydride, Electrochemistry, Electromagnetic stimulation, Fleischmann and Pons effect,\n",
            "Metal hydrides and deuterides, Palladium, Palladium alloys, Radiofrequency\n",
            "\n",
            "\n",
            "\n",
            "Document: \n",
            "\n",
            "Research Article\n",
            "Evidence for Nuclear Transmutations in Ni–H Electrolysis\n",
            "We report an easily reproducible Low Energy Nuclear Reactions (LENR) electrolysis experiment on an Ni–H system. An elec-\n",
            "trolytic cell with a Ni cathode and a Pt anode with an aqueous (H2O not D2O) solution of K2CO3 as electrolyte was used for the\n",
            "experiment. A dc-power supply capable of supplying up to 5 A current was used to drive the electrolysis with the typical current\n",
            "being around 4 A and the applied voltage about 100 V. After running the electrolysis for about two weeks with a daily run time of 8\n",
            "h on an average, a part of the nickel electrode, which by this time had become black, was taken for elemental analysis using Energy\n",
            "Dispersive Spectroscopy (EDS). The EDS analysis showed that a whole host of new elements had appeared on the cathode such as:\n",
            "K, Fe, Cu, O, Rh, Zr and Pb. The apparent concentration of the elements varied from just over a percent for K and Pb to about 10%\n",
            "for Rh and 20% for Cu. The sample was then taken to a Time of Flight Secondary Ion Mass Spectrometer (ToF-SIMS) for isotopic\n",
            "analysis. This analysis also showed that a set of new elements had appeared on the nickel wire which were: K, Si, Mg, Mn, Zn,\n",
            "O & Rh. The Ni itself was found to have the following isotopes: 58Ni, 60Ni and 62Ni with isotope concentration ratios differing\n",
            "signiﬁcantly from the ratio found in naturally occurring Ni. It was clear that in the electrolyzed Ni the concentrations of 60Ni and\n",
            "62Ni had gone down compared to the concentration of 58Ni. This is a clear indication that nuclear reactions had taken place during\n",
            "electrolysis.\n",
            "c\n",
            "\"\n",
            "2017 ISCMNS. All rights reserved. ISSN 2227-3123\n",
            "Keywords: Electrolysis, LENR, Ni–H systems, Transmutation\n",
            "\n"
          ]
        }
      ],
      "source": [
        "for i in range(0, total_clusters):\n",
        "  print(\"\\n____________________\")\n",
        "  print(f\"\\nCluster Number - {i}\")\n",
        "  for doc, dist in representative_docs[i]:\n",
        "    print(f\"\\n\\nDocument: \\n\\n{doc}\")"
      ]
    },
    {
      "cell_type": "markdown",
      "metadata": {
        "id": "4V-P5dTeBeS9"
      },
      "source": [
        "**Question 4b - Visualization of clusters**\n",
        "\n",
        "1. Reduce the vectors from 30 dimensions to 2 dimensions to plot\n",
        "2. Plot the vectors and the corresponding cluster centers"
      ]
    },
    {
      "cell_type": "code",
      "execution_count": null,
      "metadata": {
        "id": "IfLa64JgrOYf"
      },
      "outputs": [],
      "source": [
        "def reduce_to_2_dimensions(document_vectors):\n",
        "  vectors = np.asarray(document_vectors)\n",
        "\n",
        "  # reduce using pca\n",
        "  pca = PCA(n_components=2, random_state=0)\n",
        "  vectors = pca.fit_transform(vectors)\n",
        "  return vectors"
      ]
    },
    {
      "cell_type": "code",
      "execution_count": null,
      "metadata": {
        "id": "eWkmdYs4rzk0"
      },
      "outputs": [],
      "source": [
        "plottable_vectors = reduce_to_2_dimensions(w2v_reduced_vectors)"
      ]
    },
    {
      "cell_type": "code",
      "execution_count": null,
      "metadata": {
        "id": "UwHqlv6esnr_"
      },
      "outputs": [],
      "source": [
        "def plot_clusters(vectors, clusters, cluster_count):\n",
        "  labels = clusters.labels_\n",
        "\n",
        "  plt.figure(figsize=(10, 10))\n",
        "\n",
        "  clustered_vectors = [[] for i in range(0, cluster_count)]\n",
        "\n",
        "  for i in range(0, len(vectors)):\n",
        "    clustered_vectors[labels[i]].append(vectors[i])\n",
        "\n",
        "\n",
        "  for i in range(0, len(clustered_vectors)):\n",
        "    cluster = np.asarray(clustered_vectors[i])\n",
        "    plt.scatter(cluster[:, 0], cluster[:, 1], s=60, label = f\"Cluster {i}\")\n",
        "\n",
        "  centroids = reduce_to_2_dimensions(clusters.cluster_centers_)\n",
        "  plt.scatter(centroids[:, 0], centroids[:, 1], s = 100, c='black', label = 'Centroids')\n",
        "  plt.legend()\n",
        "  plt.title(\"Clustered Documents\")\n",
        "  plt.show()\n"
      ]
    },
    {
      "cell_type": "code",
      "execution_count": null,
      "metadata": {
        "colab": {
          "base_uri": "https://localhost:8080/",
          "height": 853
        },
        "id": "RO4s6QvlvrpV",
        "outputId": "8a1ea2d0-4aca-4208-8571-cf0af633fb7c"
      },
      "outputs": [
        {
          "data": {
            "image/png": "[encoded data removed]",
            "text/plain": [
              "<Figure size 1000x1000 with 1 Axes>"
            ]
          },
          "metadata": {},
          "output_type": "display_data"
        }
      ],
      "source": [
        "plot_clusters(plottable_vectors, cluster_info, total_clusters)"
      ]
    },
    {
      "cell_type": "markdown",
      "metadata": {
        "id": "cwAEUcu5NJZT"
      },
      "source": [
        "**Question 5 - Class based TF-IDF**\n",
        "\n",
        "Applying TF-IDF on a cluster level\n",
        "\n",
        "1. Merge all documents in a single cluster\n",
        "2. Perform TF-IDF on word corpus\n",
        "3. Get 6 keywords per cluster"
      ]
    },
    {
      "cell_type": "code",
      "execution_count": null,
      "metadata": {
        "id": "6leFQUFtWr7d"
      },
      "outputs": [],
      "source": [
        "import pandas as pd\n",
        "import numpy as np\n",
        "from sklearn.feature_extraction.text import CountVectorizer\n",
        "from sklearn.feature_extraction.text import TfidfTransformer\n",
        "from sklearn.feature_extraction.text import TfidfVectorizer\n",
        "\n",
        "import warnings\n",
        "warnings.filterwarnings(\"ignore\")"
      ]
    },
    {
      "cell_type": "code",
      "execution_count": null,
      "metadata": {
        "id": "KuDP1r5Qo5M6"
      },
      "outputs": [],
      "source": [
        "def get_cluster_docs(clusters, documents):\n",
        "  labels = clusters.labels_\n",
        "  centroids = clusters.cluster_centers_\n",
        "\n",
        "  clustered_docs = [[] for i in range(0, len(centroids))]\n",
        "\n",
        "  for i in range(0, len(documents)):\n",
        "    clustered_docs[labels[i]] += documents[i]\n",
        "\n",
        "  return clustered_docs"
      ]
    },
    {
      "cell_type": "code",
      "execution_count": null,
      "metadata": {
        "id": "JfMUZI8LWlO5"
      },
      "outputs": [],
      "source": [
        "clustered_docs = get_cluster_docs(cluster_info, clean_docs)"
      ]
    },
    {
      "cell_type": "code",
      "execution_count": null,
      "metadata": {
        "colab": {
          "base_uri": "https://localhost:8080/",
          "height": 74
        },
        "id": "7Eh2rmb8o5sH",
        "outputId": "b7df6d87-97c1-4925-87f0-4b8fd89e9ae1"
      },
      "outputs": [
        {
          "data": {
            "text/html": [
              "<style>#sk-container-id-1 {color: black;background-color: white;}#sk-container-id-1 pre{padding: 0;}#sk-container-id-1 div.sk-toggleable {background-color: white;}#sk-container-id-1 label.sk-toggleable__label {cursor: pointer;display: block;width: 100%;margin-bottom: 0;padding: 0.3em;box-sizing: border-box;text-align: center;}#sk-container-id-1 label.sk-toggleable__label-arrow:before {content: \"▸\";float: left;margin-right: 0.25em;color: #696969;}#sk-container-id-1 label.sk-toggleable__label-arrow:hover:before {color: black;}#sk-container-id-1 div.sk-estimator:hover label.sk-toggleable__label-arrow:before {color: black;}#sk-container-id-1 div.sk-toggleable__content {max-height: 0;max-width: 0;overflow: hidden;text-align: left;background-color: #f0f8ff;}#sk-container-id-1 div.sk-toggleable__content pre {margin: 0.2em;color: black;border-radius: 0.25em;background-color: #f0f8ff;}#sk-container-id-1 input.sk-toggleable__control:checked~div.sk-toggleable__content {max-height: 200px;max-width: 100%;overflow: auto;}#sk-container-id-1 input.sk-toggleable__control:checked~label.sk-toggleable__label-arrow:before {content: \"▾\";}#sk-container-id-1 div.sk-estimator input.sk-toggleable__control:checked~label.sk-toggleable__label {background-color: #d4ebff;}#sk-container-id-1 div.sk-label input.sk-toggleable__control:checked~label.sk-toggleable__label {background-color: #d4ebff;}#sk-container-id-1 input.sk-hidden--visually {border: 0;clip: rect(1px 1px 1px 1px);clip: rect(1px, 1px, 1px, 1px);height: 1px;margin: -1px;overflow: hidden;padding: 0;position: absolute;width: 1px;}#sk-container-id-1 div.sk-estimator {font-family: monospace;background-color: #f0f8ff;border: 1px dotted black;border-radius: 0.25em;box-sizing: border-box;margin-bottom: 0.5em;}#sk-container-id-1 div.sk-estimator:hover {background-color: #d4ebff;}#sk-container-id-1 div.sk-parallel-item::after {content: \"\";width: 100%;border-bottom: 1px solid gray;flex-grow: 1;}#sk-container-id-1 div.sk-label:hover label.sk-toggleable__label {background-color: #d4ebff;}#sk-container-id-1 div.sk-serial::before {content: \"\";position: absolute;border-left: 1px solid gray;box-sizing: border-box;top: 0;bottom: 0;left: 50%;z-index: 0;}#sk-container-id-1 div.sk-serial {display: flex;flex-direction: column;align-items: center;background-color: white;padding-right: 0.2em;padding-left: 0.2em;position: relative;}#sk-container-id-1 div.sk-item {position: relative;z-index: 1;}#sk-container-id-1 div.sk-parallel {display: flex;align-items: stretch;justify-content: center;background-color: white;position: relative;}#sk-container-id-1 div.sk-item::before, #sk-container-id-1 div.sk-parallel-item::before {content: \"\";position: absolute;border-left: 1px solid gray;box-sizing: border-box;top: 0;bottom: 0;left: 50%;z-index: -1;}#sk-container-id-1 div.sk-parallel-item {display: flex;flex-direction: column;z-index: 1;position: relative;background-color: white;}#sk-container-id-1 div.sk-parallel-item:first-child::after {align-self: flex-end;width: 50%;}#sk-container-id-1 div.sk-parallel-item:last-child::after {align-self: flex-start;width: 50%;}#sk-container-id-1 div.sk-parallel-item:only-child::after {width: 0;}#sk-container-id-1 div.sk-dashed-wrapped {border: 1px dashed gray;margin: 0 0.4em 0.5em 0.4em;box-sizing: border-box;padding-bottom: 0.4em;background-color: white;}#sk-container-id-1 div.sk-label label {font-family: monospace;font-weight: bold;display: inline-block;line-height: 1.2em;}#sk-container-id-1 div.sk-label-container {text-align: center;}#sk-container-id-1 div.sk-container {/* jupyter's `normalize.less` sets `[hidden] { display: none; }` but bootstrap.min.css set `[hidden] { display: none !important; }` so we also need the `!important` here to be able to override the default hidden behavior on the sphinx rendered scikit-learn.org. See: https://github.com/scikit-learn/scikit-learn/issues/21755 */display: inline-block !important;position: relative;}#sk-container-id-1 div.sk-text-repr-fallback {display: none;}</style><div id=\"sk-container-id-1\" class=\"sk-top-container\"><div class=\"sk-text-repr-fallback\"><pre>TfidfTransformer()</pre><b>In a Jupyter environment, please rerun this cell to show the HTML representation or trust the notebook. <br />On GitHub, the HTML representation is unable to render, please try loading this page with nbviewer.org.</b></div><div class=\"sk-container\" hidden><div class=\"sk-item\"><div class=\"sk-estimator sk-toggleable\"><input class=\"sk-toggleable__control sk-hidden--visually\" id=\"sk-estimator-id-1\" type=\"checkbox\" checked><label for=\"sk-estimator-id-1\" class=\"sk-toggleable__label sk-toggleable__label-arrow\">TfidfTransformer</label><div class=\"sk-toggleable__content\"><pre>TfidfTransformer()</pre></div></div></div></div></div>"
            ],
            "text/plain": [
              "TfidfTransformer()"
            ]
          },
          "execution_count": 65,
          "metadata": {},
          "output_type": "execute_result"
        }
      ],
      "source": [
        "count_vectorizer = CountVectorizer()\n",
        "cluster_sentences = [' '.join(doc) for doc in clustered_docs]\n",
        "word_count = count_vectorizer.fit_transform(cluster_sentences)\n",
        "\n",
        "tfidf_transformer = TfidfTransformer(smooth_idf=True, use_idf=True)\n",
        "tfidf_transformer.fit(word_count)"
      ]
    },
    {
      "cell_type": "code",
      "execution_count": null,
      "metadata": {
        "id": "2sgfBowgYsq-"
      },
      "outputs": [],
      "source": [
        "#tfidf\n",
        "tf_idf_vectors = tfidf_transformer.transform(word_count)\n",
        "feature_names = count_vectorizer.get_feature_names_out()"
      ]
    },
    {
      "cell_type": "code",
      "execution_count": null,
      "metadata": {
        "id": "S0zSMN5IbBbL"
      },
      "outputs": [],
      "source": [
        "def get_keywords(tf_idf_vectors, feature_names):\n",
        "  keyword_list = []\n",
        "  for i in range(0, total_clusters):\n",
        "    document_vector = tf_idf_vectors[i]\n",
        "    tf_idf_dataframe = pd.DataFrame(document_vector.T.todense(), index = feature_names, columns = [\"tf_idf\"])\n",
        "    keywords = tf_idf_dataframe.sort_values(by = [\"tf_idf\"], ascending = False)[:6]\n",
        "    keyword_list.append(keywords.index.tolist())\n",
        "\n",
        "  return keyword_list"
      ]
    },
    {
      "cell_type": "code",
      "execution_count": null,
      "metadata": {
        "id": "OonvgIQx49F8"
      },
      "outputs": [],
      "source": [
        "keywords = get_keywords(tf_idf_vectors, feature_names)"
      ]
    },
    {
      "cell_type": "code",
      "execution_count": null,
      "metadata": {
        "id": "_RSLjuUC5bKx"
      },
      "outputs": [],
      "source": [
        "# Output for Question 5\n",
        "cluster_details_list = []\n",
        "\n",
        "for i in range(0, total_clusters):\n",
        "  rep_docs = [doc for doc, dist in representative_docs[i]]\n",
        "  cluster_details_list.append((i, rep_docs, keywords[i]))"
      ]
    },
    {
      "cell_type": "code",
      "execution_count": null,
      "metadata": {
        "id": "HF0jlIz3MRwW"
      },
      "outputs": [],
      "source": [
        "# import the pandas module\n",
        "import pandas as pd\n",
        "\n",
        "# create three lists for cluster_ids, rep_docs, and keywords\n",
        "cluster_ids = [(cluster + 1) for cluster, rep, keywords in cluster_details_list]\n",
        "rep_docs = [rep for cluster, rep, keywords in cluster_details_list]\n",
        "keywords = [keyword for cluster, rep, keyword in cluster_details_list]\n",
        "\n",
        "# create a dictionary with the three lists\n",
        "dict = {'Cluster_id': cluster_ids, 'Representative Documents': rep_docs, 'Keywords': keywords}\n",
        "\n",
        "# create a Pandas DataFrame from the dictionary\n",
        "df = pd.DataFrame(dict)\n",
        "\n",
        "# write the DataFrame to a CSV file\n",
        "df.to_csv('cluster_info.csv')"
      ]
    },
    {
      "cell_type": "code",
      "execution_count": null,
      "metadata": {
        "colab": {
          "base_uri": "https://localhost:8080/"
        },
        "id": "nK6Fa2t16_bM",
        "outputId": "37dec901-a66b-4356-83fc-ac468825e429"
      },
      "outputs": [
        {
          "data": {
            "text/plain": [
              "[(0,\n",
              "  ['RESEARCH INTO CHARACTERISTICS OF X-RAY EMISSION\\nLASER BEAMS FROM SOLID-STATE CATHODE MEDIUM OF\\nHIGH-CURRENT GLOW DISCHARGE\\nX-ray emissions ranging 1.2 – 3.0 keV with dose rate up to 1.0 Gy/s have been registered in\\nexperiments with high-current Glow Discharge. The emissions energy and intensity depend on\\nthe cathode material; the kind of plasma-forming gas; and the discharge parameters. The\\nexperiments were carried out on the high-current glow discharge device using D2, H2, Kr and Xe\\nat pressure up to 10 Torr, as well as cathode samples made from Al, Sc, Ti, Ni, Nb, Zr, Mo, Pd,\\nTa, W, Pt, at current up to 500 mA and discharge voltage of 500-2500 V. Two emission modes\\nwere revealed under the experiments: 1. Diffusion X-rays was observed as separate X-ray bursts\\n(up to 5×105 bursts a second and up to 106 X-ray quanta in a burst); 2. X-rays in the form of laser\\nmicrobeams (up to 104 beams a second and up to 1010 X-ray of quanta in a beam, angular\\ndivergence was up to 10-4, the duration of the separate laser beams must be τ =3·10-13 - 3·10-14 s,\\nthe separate beam power must be 107 – 108 W). The emission of the X-ray laser beams occurred\\nwhen the discharge occurred and within 100 ms after turning off the current. The results of\\nexperimental research into the characteristics of secondary penetrating radiation occurring when\\ninteracting primary X-ray beams from a solid-state cathode medium with targets made of various\\nmaterials are reported. It was shown that the secondary radiation consisted of fast electrons.\\nSecondary radiation of two types was observed: 1. The emission with a continuous temporal\\nspectrum in the form of separate bursts with intensity up to 106 fast electrons a burst. 2. The\\nemission with a discrete temporal spectrum and emission rate up to 1010 fast electrons a burst. A\\nthird type of the penetrating radiation was observed as well. This type was recorded directly by\\nthe photomultiplier placed behind of the target without the scintillator. The abnormal high\\npenetrating ability of this radiation type requires additional research to explain. The obtained\\nresults show that creating optically active medium with long-living metastable levels with the\\nenergy of 1.0 - 3.0 keV and more is possible in the solid state.\\n',\n",
              "   'EXCESS HEAT PRODUCTION IN Pd/D DURING PERIODIC\\nPULSE DISCHARGE CURRENT IN VARIOUS\\nCONDITIONS\\nExperimental data from low energy nuclear reactions (LERN) in condensed media are presented. The\\nnuclear reactions products were found in solid cathode media used in glow discharge. Apparently, the nuclear\\nreactions were initiated when bombarding the cathode surface by plasma ions with the energy of 1.0-2.0 keV.\\nExcess heat from a high current glow discharge reaction in D2, Xe and Kr using cathodes already charged\\nwith preliminary deuterium-charged Pd and Ti cathode samples are given. Excess heat up to 10 - 15 W and\\nefficiency up to 130% was recorded under the experiments for Pd cathode samples in D2 discharge. Excess\\nheat up to 5 W and efficiency up to 150% was recorded for Pd cathodes that were charged with deuterium\\nbefore the run, in Xe and Kr discharges. At the same time excess heat was not observed for pure Pd cathode\\nsamples in Xe and Kr discharges. The formation of impurity nuclides (7Li, 13C, 15N, 20Ne, 29Si, 44Ca, 48Ca,\\n56Fe, 57Fe, 59Co, 64Zn, 66Zn, 75As, 107Ag, 109Ag, 110Cg, 111Cg, 112Cg, 114Cg, 115In) with the efficiency up to 1013\\natoms/s was recorded. The isotopic ratios of these new nuclides was quite different from the natural ratios.\\nSoft X-ray radiation from the solid-state cathode with the intensity up to 0.01Gy/s was recorded in\\nexperiments with discharges in H2, D2, Ar, Xe and Kr. The X-ray radiation was observed in bursts of up to\\n106 photons, with up to 105 bursts per second while the discharge was formed and within 100 ms after turning\\noff the discharge current. The results of the X-ray radiation registration showed that the exited energy levels\\nhave a lifetime up to 100 ms or more, and the energy of 1.2 - 2.5 keV. A possible mechanism for producing\\nexcess heat and nuclear transmutation reactions in the solid medium with the exited energy levels is\\nconsidered.\\n'],\n",
              "  ['discharge', 'xray', 'burst', 'medium', 'cathode', 'radiation']),\n",
              " (1,\n",
              "  ['Excess Heat Production and Nuclear Ash in PdO/Pd/PdO Heterostructure \\nafter Electrochemical Saturation with Deuterium \\nHeat production nuclear ash and electrophysical processes in PdO/Pd/PdO (Au/Pd/PdO) \\nheterostructures electrochemically saturated with deuterium (hydrogen) have been \\ninvestigated. It was shown in after electrolysis period a strong heat flash with duration of 2-7 \\ns and energy density of 60-100 J/cm2 was observed for Pd/PdO:D(H) sample placed in air \\natmosphere. The thermal energy of each flash was approximately 2-5 times higher than the \\nenergy supplied to the sample during electrolysis. Neutron- and γ-emissions accompanying \\nthe heat production have been investigated. \\n',\n",
              "   'Searching for excess heat in Mizuno-type plasma electrolysis\\nAbstract\\nExcess heat generated in the glow discharge plasma electrolysis, first reported by\\nMizuno and Ohmori (1), has been studied by several researchers, both in Japan (2,\\n3, 4) and in other countries (5, 6, 7, 8). Most reports, but not all, confirmed\\ngeneration of excess heat. Facing this situation we decided to replicate the most\\nrecent experiment (8) in which excess heat was reported to increase with voltage.\\nOur results do not confirm reality of excess heat.\\n',\n",
              "   'Charged Particle Emissions and Surface Morphology of Pd/PdO:Dx \\nand TiDx Targets Under Electron Beam Excitation \\nAbstract.  We  report  charged  particle  emission  from  metal  deuterides  upon  e-beam  excitation  of \\ntheir surface.  Detection  and identification was made using CR-39 plastic track detectors with Cu \\nand Al absorbers.  Protons with primary energy 3 MeV and α-particles with energies Eα> 10 MeV \\nare observed. \\n'],\n",
              "  ['heat', 'electrolysis', 'plasma', 'isotope', 'surface', 'transmutation']),\n",
              " (2,\n",
              "  ['Research Article\\nScreening Energy of the d+d Reaction in an Electron Plasma\\nDeduced from Cooperative Colliding Reaction\\nWe have measured protons and tritons from the d (d,p) t reaction in liquid In, Sn, Pb and Bi during the D+\\n3 molecular deuterium\\nbeam bombardment for 15 < E < 60 keV. Observed energy spectra and yield excitation functions are anomalous and suggest that\\nthe target deuteron is also in motion. It is found that the reaction mechanism is unique to the molecular beam in such a way that one\\ndeuteron in a molecule is elastically scattered by a host metal atom and then it collides with the other to cause the d+d reaction.\\nWe call it as the cooperative colliding mechanism (CCM). Experimental data are compared with the CCM calculation and values of\\nthe screening energy of the d+d reaction are deduced. They are 380\\n100 eV for In, Sn, Pb\\nand Bi, respectively. It is concluded that the screening energy of the d+d reaction in an electron plasma in metal is really large: the\\naveraged value of 530 eV is more than ten times larger than the simple Thomas–Fermi screening prediction.\\nc\\n\"\\n2016 ISCMNS. All rights reserved. ISSN 2227-3123\\n100 and 490\\nKeywords: Cooperative colliding mechanism, DD reaction in metal, Liquid metal, Low-energy deuteron beam, Screening potential\\n',\n",
              "   'Research Article\\nTransmutations Involving the Di-neutron in Condensed Matter\\nIt has been recently revealed how a lattice bound proton, in an electrochemical cathode, can absorb a relativistic electron\\nyielding a neutron. There is no longer much doubt that the analogous electron capture by a deuteron, in condensed matter,\\n(e−real +1 p\\n+ νe) is even more efﬁcient, where the arrows indicate nucleon spins. The life time of the newly\\nformed di-neutron may be vanishingly short, but in the palladium deuteride matrix, we show that it is certainly sufﬁciently long to\\nundergo transmutation with constituents of the matrix as well as added “impurities” to yield both isotopic and isotonic products:\\n108Pd). When the agent capturing the di-neutron is 1H, tritium is the result. When it is 2H, 4He and heat\\ni.e. (0n\\nare the products (the Fleishmann Pons Heat Effect). Consistent with the tendency of di-neutrons to cluster, multiple di-neutrons are\\noccasionally captured yielding neutron heavy nuclei. This is followed by beta decay and the respective isotonic products. We show\\nthat, within the PdD matrix, these di-neutron reactions involve phonon enforced quantum tunneling. The di-neutron-phonon mech-\\nanism fully accounts for the following: (1) the evolved heat commensurate with 4He production, (2) the production of tritium when\\nsmall amounts of 1H are present, (3) the release of feeble neutrons, (4) the formation of Pr when Cs is present, (5) the ostensive\\nintermittent reproducibility and erratic (chaotic) heat out-puts, and (6) the seemingly major problem of obfuscating the Coulombic\\nrepulsion issue. Indeed, the antics of the di-neutron can fully explain the important aspects of normal temperature LENR heat\\neffects and transmutations. Further, the di-neutron paradigm (mechanism) falls within the normal bounds of the Standard Model,\\nand it is without the necessity of exotic forms of matter.\\nc\\n#\\nKeywords: Chaos, Di-neutron, Electron Capture, 3H, 4mH, Palladium-128, Transmutation\\n2019 ISCMNS. All rights reserved. ISSN 2227-3123\\n',\n",
              "   'Research Article\\nElectromagnetic Emission in the kHz to GHz Range Associated with\\nHeat Production During Electrochemical Loading of Deuterium into\\nPalladium: A Summary and Analysis of Results Obtained by\\nDifferent Research Groups\\nThere is a small literature on the combination of low energy nuclear reactions (LENR) experiments and radiofrequencies (RF).\\nThe papers are worth attention in case they can teach anything about the mechanisms behind LENR. Application of RF to LENR\\nelectrochemical cells in the mid-1990s clearly showed increases in the production of excess power. More recently, RF have been\\nmeasured in LENR cells. However, it is still possible that those data are artifacts of the operation of the system, and not indicative of\\nLENR. It has been suggested that the appearance of RF in LENR experiments is the cause of LENR, and not merely a manifestation\\nof such reactions. That possibility has signiﬁcant implications. In the present paper, we summarize and analyze the results obtained\\nby different research groups concerning the application and emission of RF in the kHz to GHz range associated with heat production\\nduring electrochemical loading of deuterium into palladium.\\nc\\n2016 ISCMNS. All rights reserved. ISSN 2227-3123\\n\"\\nKeywords: Electromagnetic emissions, Electromagnetic radiation, Excess power, LENR, Heat production\\n'],\n",
              "  ['reaction', 'deuteron', 'dd', 'dineutron', 'heat', 'potential']),\n",
              " (3,\n",
              "  [\"Heat  Production  and  Trial  to  Detect  Nuclear  Products \\nfrom  Palladium-Deuterium  Electrolysis  Cells \\n2. Electrochemical- CeJJs\\nA burst-like excess heat release, equivalent to 110% of the input electric power, \\nwas clearly observed for the first time in our newly built open type electrolysis cell using \\nPd/0. lMLiOD/Pt.  After being precharged, the cell was driven to boiling three times the \\nlast of which continued for about  16 hours to almost dryness.  The burst occurred just \\nduring the calm period about 6 hours after the first boiling.  The temperature of the cell, \\nabout  100 ml in volume, increased by 7.5 Kin 13 minutes.  A palladium cathode, 2mm¢> \\nx 7.05mm,  was a heat source,  although the mechanism of the heat generation is still \\nuncertain.  During the whole period of this run, however, the phenomenon took place \\nonly once.  Neither increase of neutron emission nor that of tritium concentration has \\nbeen detected.  Mass analysis showed that any traces of  D2 as well as 4He have not\\nremained in the Pd sample used.  Detection of 'Yray emission as well as 3He and 4He in \\noff gas during or just after release of excess power should be yet to be pursued further. \\n\",\n",
              "   'Research Article\\nLENR- Experiment on Heterogeneous Hydrocarbon Plasma Jet\\nInteraction with Ni-Foil-Target\\nHeterogeneous Hydrocarbon Plasma (HHP) was used in LENR experiments in the studies [1], [2] for the ﬁrst time. This HHP\\nwas created by a pulsed erosive capillary plasma generator (PG). The working erosive substance PMMA (polymethyl-methacrylate,\\nmonomer-C5H8O2) was used in this PG. This work is a continuation of the previous ones [1], [2]. A calorimetric experiment with\\nPG and distant Ni-foil cathode has been carried out in argon atmosphere (Pst~1 Bar). It was determined that HHP consists of the\\ncarbon nano-clusters and hydrogen atoms + hydrogen ions. These species are connected with dissociation of the initial PMMA.\\nThe interaction of HHP with thin Ni-foil target (width 0.1 ÷ 1 mm) has been studied in this work. HHP- jet heats, melts and\\nevaporates this thin Ni-foil target. In a result of this interaction a small hole with diameter 1–3 mm in the Ni-foil target was burned\\nby HHP-jet. Parameters of this hole were measured. Ni-foil weight was measured before and after the experiment also. It was\\nrevealed that the value COP was about of 5 ÷ 6 in this experiment (where COP = QT/Qe, QT – thermal energy of heating, melting\\nand evaporating of the Ni-foil-target, Qe-electric energy input for HHP-jet creation). New transmuted chemical elements Li, Al,\\nCa,. . . were recorded in the HHP by the optical spectroscopy method, the EDS-method and the MS ICP method.\\n© 2022 ICCF. All rights reserved. ISSN 2227-3123\\nKeywords: LENR, heterogeneous hydrocarbon plasma, PMMA, Ni foil, transmutation\\n',\n",
              "   'Research Article\\nIs the Abundance of Elements in Earth’s Crust Correlated with\\nLENR Transmutation Rates?\\nNuclear transmutations are reported in many low-energy nuclear reaction (LENR) experiments. We showed in a previous study\\n(Scholkmann and Nagel, J. Condensed Matter Nucl. Sci. 13 (2014) 485–494) that (i) the transmutation data of three independent\\nexperiments have a similar pattern and (ii) this pattern correlates with a model-based on the prediction of Widom and Larsen (WL).\\nIn the present study, we extended our analysis and investigated whether the abundance of elements in Earth’s crust is correlated with\\neither (i) the WL-prediction, or (ii) the three LENR transmutation data sets. The ﬁrst analysis revealed that there is no statistically\\nsigniﬁcant correlation between these variables. The second analysis showed a signiﬁcant correlation, but the correlation only\\nreﬂects the trend of the data and not the peak-like pattern. This result strengthens the interpretation that the observed peak-like\\npattern in the transmutation data sets does not originate from contamination. Further implications of our study are discussed and a\\nrecommendation is given for future transmutation experiments.\\nc\\n2016 ISCMNS. All rights reserved. ISSN 2227-3123\\n\"\\nKeywords: Elements in Earth’s crust, Low-energy nuclear reactions (LENR), Neutron scattering strength, Statistical analysis, Trans-\\nmutation, Widom–Larsen theory\\n'],\n",
              "  ['transmutation', 'heat', 'excess', 'model', 'resistance', 'hhp']),\n",
              " (4,\n",
              "  ['SEARCH FOR COHERENT DEUTERON FUSION BY \\nBEAM AND ELECTROLYSIS EXPERIMENTS \\n[Abstract] Procedures and results of three kinds of experiments i.e., closed type D2O/Pd electrolysis, \\nelectron beam irradiation and ion-beam bombardment on titanium-deuteride (TiDx) have been \\nintroduced in this paper. In the electrolysis experiment, upper gas of the electrolysis cell was analyzed \\nusing a Quadrupole Mass Analysis System (Q-MAS). Significant amount of helium-4 was detected \\nwithout neutron emission in several experiments and in one of these experiments, the amount of \\nhelium-4 atom in the released gas from the palladium cathode was 8.1x1016 atoms. Under electron \\nbeam irradiation to highly D-loaded palladium, anomalous spectra were taken in X-ray measurement. \\nIn the experiments using deuteron beam and TiDx, responses which suggested 3D multi-body fusion \\nwere taken and the reaction rate of which was increased compared to the D(d,p)T reaction rate, below \\n100 keV. This result may reflect the coherent effect of the solid state in the reactions. From the results \\nof the experiments using proton beam and TiDx, peaks which suggested 3D multi-body reaction were \\ndetected with high reproducibility. Moreover, high energetic protons having 17-20 MeV emitted \\nkinetic energy which suggested H-D-D three-body coherent fusion were also detected. \\n',\n",
              "   'Research Article\\nHeat Production and RF Detection during Cathodic Polarization of\\nPalladium in 0.1 M LiOD\\nThe study of the Fleischmann–Pons Effect (FPE), i.e. the production of excess power production during electrochemical loading\\nof deuterium in palladium (in the past labeled cold fusion) has had a notably multidisciplinary character, involving solid state and\\nnuclear physics, material science, electrochemistry and other ﬁelds. Correlations between the material status and the occurrence of\\nthe effect as well as some changes in the electrochemical interface status have been observed. Although during the last two decades,\\nin several calorimetric experiments the effect was observed to be well above the measurement uncertainty, the mechanism producing\\nthe excess power is not completely understood. So far, the lack of reproducibility has been responsible for the absence of a clear\\nexplanation of the phenomenon based on experimental apparatus designed to enhance the spectrum of information required to\\ndeﬁne the effect. Recently, In order to improve this aspect of this research, speciﬁc work has been carried out to investigate whether\\nthe excess power was produced concurrently with the emission of Radio Frequency from the active cathode. Suitable probes\\nand triggering included in the RF experimental system revealed RF signal emission during electrochemical loading of palladium\\nsamples, and a correlation between the heat production, in active samples, and RF signal emission was found. The preliminary\\nresults highlight the importance of performing studies on the electrodynamic effects that may be involved in the phenomenon, and\\nthe importance of the design of appropriate instruments designed to investigate unexplored regions of metal hydrogen systems.\\nc\\n\"\\n2016 ISCMNS. All rights reserved. ISSN 2227-3123\\nKeywords: Anomalous heat effect in metal hydride, Electrochemistry, Electromagnetic stimulation, Fleischmann and Pons effect,\\nMetal hydrides and deuterides, Palladium, Palladium alloys, Radiofrequency\\n',\n",
              "   'Research Article\\nEvidence for Nuclear Transmutations in Ni–H Electrolysis\\nWe report an easily reproducible Low Energy Nuclear Reactions (LENR) electrolysis experiment on an Ni–H system. An elec-\\ntrolytic cell with a Ni cathode and a Pt anode with an aqueous (H2O not D2O) solution of K2CO3 as electrolyte was used for the\\nexperiment. A dc-power supply capable of supplying up to 5 A current was used to drive the electrolysis with the typical current\\nbeing around 4 A and the applied voltage about 100 V. After running the electrolysis for about two weeks with a daily run time of 8\\nh on an average, a part of the nickel electrode, which by this time had become black, was taken for elemental analysis using Energy\\nDispersive Spectroscopy (EDS). The EDS analysis showed that a whole host of new elements had appeared on the cathode such as:\\nK, Fe, Cu, O, Rh, Zr and Pb. The apparent concentration of the elements varied from just over a percent for K and Pb to about 10%\\nfor Rh and 20% for Cu. The sample was then taken to a Time of Flight Secondary Ion Mass Spectrometer (ToF-SIMS) for isotopic\\nanalysis. This analysis also showed that a set of new elements had appeared on the nickel wire which were: K, Si, Mg, Mn, Zn,\\nO & Rh. The Ni itself was found to have the following isotopes: 58Ni, 60Ni and 62Ni with isotope concentration ratios differing\\nsigniﬁcantly from the ratio found in naturally occurring Ni. It was clear that in the electrolyzed Ni the concentrations of 60Ni and\\n62Ni had gone down compared to the concentration of 58Ni. This is a clear indication that nuclear reactions had taken place during\\nelectrolysis.\\nc\\n\"\\n2017 ISCMNS. All rights reserved. ISSN 2227-3123\\nKeywords: Electrolysis, LENR, Ni–H systems, Transmutation\\n'],\n",
              "  ['beam', 'experiment', 'peak', 'electrolysis', 'effect', 'palladium'])]"
            ]
          },
          "execution_count": 70,
          "metadata": {},
          "output_type": "execute_result"
        }
      ],
      "source": [
        "cluster_details_list"
      ]
    },
    {
      "cell_type": "markdown",
      "metadata": {
        "id": "JqbfqKhX8rdy"
      },
      "source": [
        "**Question 6 - Topic Representation**\n",
        "\n",
        "Use the keywords obtained from the previous question to generate better topic representation using Chat-GPT APIs"
      ]
    },
    {
      "cell_type": "code",
      "execution_count": null,
      "metadata": {
        "id": "m39sCt-AmBtz"
      },
      "outputs": [],
      "source": [
        "import openai\n",
        "import json\n",
        "import time\n",
        "\n",
        "# create an open ai account\n",
        "# in personal section, create your api key\n",
        "# few requests per minute, for free users.\n",
        "openai.api_key = 'INSERT_YOUR_API'"
      ]
    },
    {
      "cell_type": "code",
      "execution_count": null,
      "metadata": {
        "id": "JgbrVBtO9nGr"
      },
      "outputs": [],
      "source": [
        "def get_topics(keyword_list):\n",
        "  topics = []\n",
        "  for keywords in keyword_list:\n",
        "    message = \"[\" + \", \".join(keywords) + \"]\"\n",
        "\n",
        "    prompt = [ {\"role\": \"system\", \"content\":\n",
        "              \"Give the summary of the document using mentioned list of keywords.\"} ]\n",
        "    if message:\n",
        "        prompt.append(\n",
        "            {\"role\": \"user\", \"content\": message},\n",
        "        )\n",
        "        chat = openai.ChatCompletion.create(\n",
        "            model=\"gpt-3.5-turbo\", messages=prompt\n",
        "        )\n",
        "    topic = chat.choices[0].message.content\n",
        "    topics.append(topic)\n",
        "    print(topic)\n",
        "    time.sleep(30)\n",
        "\n",
        "  return topics"
      ]
    },
    {
      "cell_type": "code",
      "execution_count": null,
      "metadata": {
        "colab": {
          "base_uri": "https://localhost:8080/"
        },
        "id": "QxY1Bs18op-w",
        "outputId": "18497f25-8262-4a40-fe3e-2b332f9813e4"
      },
      "outputs": [
        {
          "name": "stdout",
          "output_type": "stream",
          "text": [
            "The document discusses the discharge of radiation in a medium through the use of x-rays and a cathode burst.\n",
            "The document discusses various topics such as heat, electrolysis, plasma, isotopes, surface, and transmutation. It likely covers how these concepts are related and their implications.\n",
            "The document discusses the reaction between deuterons (nuclei of deuterium) and the formation of the dineutron. It also explores the heat generated during this reaction and the potential energy involved.\n",
            "The document discusses the model of heat transmutation and its effects on excess heat resistance in a high-heat producing (HHP) system.\n",
            "This document discusses an experiment on the peak beam effect in palladium electrolysis. It explores the impact of beam experiments on the electrolysis process and specifically focuses on the effect on palladium.\n"
          ]
        }
      ],
      "source": [
        "topics = get_topics(keywords)"
      ]
    },
    {
      "cell_type": "markdown",
      "metadata": {
        "id": "rmIvLi1XEMnn"
      },
      "source": [
        "### Question to Answer\n",
        "1. What is the curse of dimensionality? [10 points]\n",
        "\n",
        "  The curse of dimensionality refers to the phenomenon in which the volume of the data space increases exponentially with the number of features or dimensions. In other words, as you add more features to your dataset, the data points become increasingly sparse in the high-dimensional space.It leads\n",
        "  to following problems\n",
        "  - Increased computational complexity\n",
        "  - Increased data requirements\n",
        "  - Decreased performance of machine learning algorithms.\n",
        "  - Overfitting\n",
        "  - Difficulties in visualization\n",
        "\n",
        "\n",
        "2. Explain in brief the embedding techniques you have used. [10 points]\n",
        "\n",
        "  We have used two embeddings, these are Word2Vec and Doc2Vec.\n",
        "  - Word2Vec: The main idea behind Word2Vec is to represent words as dense vectors in such a way that words with similar meanings are close to each other in the vector space. These dense vector representations capture semantic relationships between words and can be used for various NLP tasks, such as text classification, language translation, and sentiment analysis. There are two main paradigms for this method 1. Continuous bag of words and 2. Skip gram\n",
        "\n",
        "  - Doc2Vec: Doc2Vec, also known as paragraph embeddings, is an extension of the Word2Vec model that learns fixed-length vector representations for variable-length pieces of text, such as sentences, paragraphs, or entire documents. While Word2Vec learns vector representations for individual words, Doc2Vec learns vector representations for entire documents, preserving the semantic meaning and context of the entire text.\n",
        "\n",
        "\n",
        "3. From the two embedding models used, which model performs better? Why do you think so? [10 points]\n",
        "\n",
        "  We feel Word2Vec performs better compared to Doc2Vec. We feel this is mainly because the amount of text we abstracted from title and abstract is less compared to the capabilities of doc2vec, the papers with small titles and abstract gave pretty small correlation during cosine similarity. The Word2Vec just compares the word similarity and works well in small data.\n",
        "\n",
        "  The other reason we decided to go with Word2Vec embedding model is because the Elbow method for K-Means clustering was more accurate in Word2Vec embedding model."
      ]
    },
    {
      "cell_type": "code",
      "execution_count": null,
      "metadata": {
        "id": "MXXpyhBS-F28"
      },
      "outputs": [],
      "source": []
    }
  ],
  "metadata": {
    "colab": {
      "provenance": []
    },
    "kernelspec": {
      "display_name": "Python 3",
      "name": "python3"
    },
    "language_info": {
      "name": "python"
    }
  },
  "nbformat": 4,
  "nbformat_minor": 0
}
